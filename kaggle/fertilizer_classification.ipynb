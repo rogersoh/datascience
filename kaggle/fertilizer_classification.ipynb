{
  "cells": [
    {
      "cell_type": "code",
      "execution_count": 1,
      "metadata": {
        "colab": {
          "base_uri": "https://localhost:8080/"
        },
        "id": "0xqxL31c-gBV",
        "outputId": "7449d227-c13c-4784-e570-5cdd45f49980"
      },
      "outputs": [],
      "source": [
        "# !wget -nc https://github.com/rogersoh/datascience/raw/refs/heads/main/data/fertilizer_classification/fertilizer_train.csv\n",
        "# !wget -nc https://github.com/rogersoh/datascience/raw/refs/heads/main/data/fertilizer_classification/fertilizer_test.csv\n"
      ]
    },
    {
      "cell_type": "code",
      "execution_count": 2,
      "metadata": {
        "id": "aDZszjjg_yYn"
      },
      "outputs": [],
      "source": [
        "import numpy as np\n",
        "import pandas as pd\n",
        "import matplotlib.pyplot as plt\n",
        "import seaborn as sns\n",
        "from sklearn.model_selection import train_test_split\n",
        "\n",
        "plt.rcParams['figure.constrained_layout.use'] = True\n"
      ]
    },
    {
      "cell_type": "code",
      "execution_count": 3,
      "metadata": {
        "colab": {
          "base_uri": "https://localhost:8080/",
          "height": 241
        },
        "id": "GQZzgcwpAKmC",
        "outputId": "c770cfe6-c121-4d4f-eb05-71a879ea80dd"
      },
      "outputs": [
        {
          "data": {
            "text/html": [
              "<div>\n",
              "<style scoped>\n",
              "    .dataframe tbody tr th:only-of-type {\n",
              "        vertical-align: middle;\n",
              "    }\n",
              "\n",
              "    .dataframe tbody tr th {\n",
              "        vertical-align: top;\n",
              "    }\n",
              "\n",
              "    .dataframe thead th {\n",
              "        text-align: right;\n",
              "    }\n",
              "</style>\n",
              "<table border=\"1\" class=\"dataframe\">\n",
              "  <thead>\n",
              "    <tr style=\"text-align: right;\">\n",
              "      <th></th>\n",
              "      <th>id</th>\n",
              "      <th>Temparature</th>\n",
              "      <th>Humidity</th>\n",
              "      <th>Moisture</th>\n",
              "      <th>Soil Type</th>\n",
              "      <th>Crop Type</th>\n",
              "      <th>Nitrogen</th>\n",
              "      <th>Potassium</th>\n",
              "      <th>Phosphorous</th>\n",
              "      <th>Fertilizer Name</th>\n",
              "    </tr>\n",
              "  </thead>\n",
              "  <tbody>\n",
              "    <tr>\n",
              "      <th>0</th>\n",
              "      <td>0</td>\n",
              "      <td>37</td>\n",
              "      <td>70</td>\n",
              "      <td>36</td>\n",
              "      <td>Clayey</td>\n",
              "      <td>Sugarcane</td>\n",
              "      <td>36</td>\n",
              "      <td>4</td>\n",
              "      <td>5</td>\n",
              "      <td>28-28</td>\n",
              "    </tr>\n",
              "    <tr>\n",
              "      <th>1</th>\n",
              "      <td>1</td>\n",
              "      <td>27</td>\n",
              "      <td>69</td>\n",
              "      <td>65</td>\n",
              "      <td>Sandy</td>\n",
              "      <td>Millets</td>\n",
              "      <td>30</td>\n",
              "      <td>6</td>\n",
              "      <td>18</td>\n",
              "      <td>28-28</td>\n",
              "    </tr>\n",
              "    <tr>\n",
              "      <th>2</th>\n",
              "      <td>2</td>\n",
              "      <td>29</td>\n",
              "      <td>63</td>\n",
              "      <td>32</td>\n",
              "      <td>Sandy</td>\n",
              "      <td>Millets</td>\n",
              "      <td>24</td>\n",
              "      <td>12</td>\n",
              "      <td>16</td>\n",
              "      <td>17-17-17</td>\n",
              "    </tr>\n",
              "    <tr>\n",
              "      <th>3</th>\n",
              "      <td>3</td>\n",
              "      <td>35</td>\n",
              "      <td>62</td>\n",
              "      <td>54</td>\n",
              "      <td>Sandy</td>\n",
              "      <td>Barley</td>\n",
              "      <td>39</td>\n",
              "      <td>12</td>\n",
              "      <td>4</td>\n",
              "      <td>10-26-26</td>\n",
              "    </tr>\n",
              "    <tr>\n",
              "      <th>4</th>\n",
              "      <td>4</td>\n",
              "      <td>35</td>\n",
              "      <td>58</td>\n",
              "      <td>43</td>\n",
              "      <td>Red</td>\n",
              "      <td>Paddy</td>\n",
              "      <td>37</td>\n",
              "      <td>2</td>\n",
              "      <td>16</td>\n",
              "      <td>DAP</td>\n",
              "    </tr>\n",
              "  </tbody>\n",
              "</table>\n",
              "</div>"
            ],
            "text/plain": [
              "   id  Temparature  Humidity  Moisture Soil Type  Crop Type  Nitrogen  \\\n",
              "0   0           37        70        36    Clayey  Sugarcane        36   \n",
              "1   1           27        69        65     Sandy    Millets        30   \n",
              "2   2           29        63        32     Sandy    Millets        24   \n",
              "3   3           35        62        54     Sandy     Barley        39   \n",
              "4   4           35        58        43       Red      Paddy        37   \n",
              "\n",
              "   Potassium  Phosphorous Fertilizer Name  \n",
              "0          4            5           28-28  \n",
              "1          6           18           28-28  \n",
              "2         12           16        17-17-17  \n",
              "3         12            4        10-26-26  \n",
              "4          2           16             DAP  "
            ]
          },
          "execution_count": 3,
          "metadata": {},
          "output_type": "execute_result"
        }
      ],
      "source": [
        "train = pd.read_csv(\"fertilizer_classification/fertilizer_train.csv\")\n",
        "test = pd.read_csv(\"fertilizer_classification/fertilizer_test.csv\")\n",
        "train.head()"
      ]
    },
    {
      "cell_type": "markdown",
      "metadata": {
        "id": "VoL7vA-LA9AV"
      },
      "source": [
        "# Explore Data"
      ]
    },
    {
      "cell_type": "code",
      "execution_count": 4,
      "metadata": {
        "colab": {
          "base_uri": "https://localhost:8080/",
          "height": 677
        },
        "id": "lOte4uYNA8gB",
        "outputId": "ef210f1c-ad80-4d2d-a513-5c9dc24b0e11"
      },
      "outputs": [
        {
          "name": "stdout",
          "output_type": "stream",
          "text": [
            "train, test shape :  (750000, 10) (250000, 9)\n",
            "<class 'pandas.core.frame.DataFrame'>\n",
            "RangeIndex: 750000 entries, 0 to 749999\n",
            "Data columns (total 10 columns):\n",
            " #   Column           Non-Null Count   Dtype \n",
            "---  ------           --------------   ----- \n",
            " 0   id               750000 non-null  int64 \n",
            " 1   Temparature      750000 non-null  int64 \n",
            " 2   Humidity         750000 non-null  int64 \n",
            " 3   Moisture         750000 non-null  int64 \n",
            " 4   Soil Type        750000 non-null  object\n",
            " 5   Crop Type        750000 non-null  object\n",
            " 6   Nitrogen         750000 non-null  int64 \n",
            " 7   Potassium        750000 non-null  int64 \n",
            " 8   Phosphorous      750000 non-null  int64 \n",
            " 9   Fertilizer Name  750000 non-null  object\n",
            "dtypes: int64(7), object(3)\n",
            "memory usage: 57.2+ MB\n",
            "None\n",
            "\n"
          ]
        },
        {
          "data": {
            "text/html": [
              "<div>\n",
              "<style scoped>\n",
              "    .dataframe tbody tr th:only-of-type {\n",
              "        vertical-align: middle;\n",
              "    }\n",
              "\n",
              "    .dataframe tbody tr th {\n",
              "        vertical-align: top;\n",
              "    }\n",
              "\n",
              "    .dataframe thead th {\n",
              "        text-align: right;\n",
              "    }\n",
              "</style>\n",
              "<table border=\"1\" class=\"dataframe\">\n",
              "  <thead>\n",
              "    <tr style=\"text-align: right;\">\n",
              "      <th></th>\n",
              "      <th>id</th>\n",
              "      <th>Temparature</th>\n",
              "      <th>Humidity</th>\n",
              "      <th>Moisture</th>\n",
              "      <th>Nitrogen</th>\n",
              "      <th>Potassium</th>\n",
              "      <th>Phosphorous</th>\n",
              "    </tr>\n",
              "  </thead>\n",
              "  <tbody>\n",
              "    <tr>\n",
              "      <th>count</th>\n",
              "      <td>750000.000000</td>\n",
              "      <td>750000.000000</td>\n",
              "      <td>750000.000000</td>\n",
              "      <td>750000.000000</td>\n",
              "      <td>750000.000000</td>\n",
              "      <td>750000.000000</td>\n",
              "      <td>750000.000000</td>\n",
              "    </tr>\n",
              "    <tr>\n",
              "      <th>mean</th>\n",
              "      <td>374999.500000</td>\n",
              "      <td>31.503565</td>\n",
              "      <td>61.038912</td>\n",
              "      <td>45.184147</td>\n",
              "      <td>23.093808</td>\n",
              "      <td>9.478296</td>\n",
              "      <td>21.073227</td>\n",
              "    </tr>\n",
              "    <tr>\n",
              "      <th>std</th>\n",
              "      <td>216506.495284</td>\n",
              "      <td>4.025574</td>\n",
              "      <td>6.647695</td>\n",
              "      <td>11.794594</td>\n",
              "      <td>11.216125</td>\n",
              "      <td>5.765622</td>\n",
              "      <td>12.346831</td>\n",
              "    </tr>\n",
              "    <tr>\n",
              "      <th>min</th>\n",
              "      <td>0.000000</td>\n",
              "      <td>25.000000</td>\n",
              "      <td>50.000000</td>\n",
              "      <td>25.000000</td>\n",
              "      <td>4.000000</td>\n",
              "      <td>0.000000</td>\n",
              "      <td>0.000000</td>\n",
              "    </tr>\n",
              "    <tr>\n",
              "      <th>25%</th>\n",
              "      <td>187499.750000</td>\n",
              "      <td>28.000000</td>\n",
              "      <td>55.000000</td>\n",
              "      <td>35.000000</td>\n",
              "      <td>13.000000</td>\n",
              "      <td>4.000000</td>\n",
              "      <td>10.000000</td>\n",
              "    </tr>\n",
              "    <tr>\n",
              "      <th>50%</th>\n",
              "      <td>374999.500000</td>\n",
              "      <td>32.000000</td>\n",
              "      <td>61.000000</td>\n",
              "      <td>45.000000</td>\n",
              "      <td>23.000000</td>\n",
              "      <td>9.000000</td>\n",
              "      <td>21.000000</td>\n",
              "    </tr>\n",
              "    <tr>\n",
              "      <th>75%</th>\n",
              "      <td>562499.250000</td>\n",
              "      <td>35.000000</td>\n",
              "      <td>67.000000</td>\n",
              "      <td>55.000000</td>\n",
              "      <td>33.000000</td>\n",
              "      <td>14.000000</td>\n",
              "      <td>32.000000</td>\n",
              "    </tr>\n",
              "    <tr>\n",
              "      <th>max</th>\n",
              "      <td>749999.000000</td>\n",
              "      <td>38.000000</td>\n",
              "      <td>72.000000</td>\n",
              "      <td>65.000000</td>\n",
              "      <td>42.000000</td>\n",
              "      <td>19.000000</td>\n",
              "      <td>42.000000</td>\n",
              "    </tr>\n",
              "  </tbody>\n",
              "</table>\n",
              "</div>"
            ],
            "text/plain": [
              "                  id    Temparature       Humidity       Moisture  \\\n",
              "count  750000.000000  750000.000000  750000.000000  750000.000000   \n",
              "mean   374999.500000      31.503565      61.038912      45.184147   \n",
              "std    216506.495284       4.025574       6.647695      11.794594   \n",
              "min         0.000000      25.000000      50.000000      25.000000   \n",
              "25%    187499.750000      28.000000      55.000000      35.000000   \n",
              "50%    374999.500000      32.000000      61.000000      45.000000   \n",
              "75%    562499.250000      35.000000      67.000000      55.000000   \n",
              "max    749999.000000      38.000000      72.000000      65.000000   \n",
              "\n",
              "            Nitrogen      Potassium    Phosphorous  \n",
              "count  750000.000000  750000.000000  750000.000000  \n",
              "mean       23.093808       9.478296      21.073227  \n",
              "std        11.216125       5.765622      12.346831  \n",
              "min         4.000000       0.000000       0.000000  \n",
              "25%        13.000000       4.000000      10.000000  \n",
              "50%        23.000000       9.000000      21.000000  \n",
              "75%        33.000000      14.000000      32.000000  \n",
              "max        42.000000      19.000000      42.000000  "
            ]
          },
          "execution_count": 4,
          "metadata": {},
          "output_type": "execute_result"
        }
      ],
      "source": [
        "print(\"train, test shape : \", train.shape, test.shape)\n",
        "print(train.info())\n",
        "print()\n",
        "train.describe()"
      ]
    },
    {
      "cell_type": "code",
      "execution_count": 5,
      "metadata": {
        "colab": {
          "base_uri": "https://localhost:8080/"
        },
        "id": "rzBI7fy7BLkK",
        "outputId": "bf748b7c-5130-4a9c-fa30-28ce4c8d3d08"
      },
      "outputs": [
        {
          "name": "stdout",
          "output_type": "stream",
          "text": [
            "Duplicates =  0\n",
            "Null or NA =  0\n"
          ]
        }
      ],
      "source": [
        "print(\"Duplicates = \",train.duplicated().sum())\n",
        "print(\"Null or NA = \", train.isna().sum().sum())"
      ]
    },
    {
      "cell_type": "code",
      "execution_count": 6,
      "metadata": {
        "colab": {
          "base_uri": "https://localhost:8080/"
        },
        "id": "_A6fzj-Cgq9U",
        "outputId": "2c95fcfc-a935-4726-8893-0aebfa205894"
      },
      "outputs": [
        {
          "data": {
            "text/plain": [
              "0.05208"
            ]
          },
          "execution_count": 6,
          "metadata": {},
          "output_type": "execute_result"
        }
      ],
      "source": [
        "(train[\"Potassium\"] == 0).sum()/train.shape[0]"
      ]
    },
    {
      "cell_type": "code",
      "execution_count": 7,
      "metadata": {
        "colab": {
          "base_uri": "https://localhost:8080/",
          "height": 240
        },
        "id": "cArQYXnLCp01",
        "outputId": "3571518b-1b9d-4c13-af7e-04e5e4c4047f"
      },
      "outputs": [
        {
          "data": {
            "image/png": "[encoded data removed]",
            "text/plain": [
              "<Figure size 1200x400 with 3 Axes>"
            ]
          },
          "metadata": {},
          "output_type": "display_data"
        }
      ],
      "source": [
        "fig = plt.figure(figsize = (12, 4))\n",
        "plt.subplot(1, 3, 1)\n",
        "sns.countplot(x = train[\"Fertilizer Name\"])\n",
        "plt.xticks(rotation = 90)\n",
        "plt.title(\"Fertilizer Name\")\n",
        "plt.subplot(1, 3, 2)\n",
        "sns.countplot(x = train[\"Soil Type\"])\n",
        "plt.title(\"Soil Type\")\n",
        "plt.subplot(1, 3, 3)\n",
        "sns.countplot(x = train[\"Crop Type\"])\n",
        "plt.xticks(rotation = 90)\n",
        "plt.title(\"crop Type\")\n",
        "plt.show()"
      ]
    },
    {
      "cell_type": "code",
      "execution_count": 8,
      "metadata": {
        "colab": {
          "base_uri": "https://localhost:8080/"
        },
        "id": "VJyo1AtAEzdT",
        "outputId": "ef95e0c1-311c-41d7-abba-3fd109a000d8"
      },
      "outputs": [
        {
          "name": "stdout",
          "output_type": "stream",
          "text": [
            "['id', 'Temparature', 'Humidity', 'Moisture', 'Soil Type', 'Crop Type', 'Nitrogen', 'Potassium', 'Phosphorous', 'Fertilizer Name']\n"
          ]
        }
      ],
      "source": [
        "print(train.columns.to_list())"
      ]
    },
    {
      "cell_type": "code",
      "execution_count": 9,
      "metadata": {
        "colab": {
          "base_uri": "https://localhost:8080/",
          "height": 457
        },
        "id": "bYT2syoulpiN",
        "outputId": "1ac8903b-577a-4f3f-bcd0-da6ebc543fb2"
      },
      "outputs": [
        {
          "data": {
            "image/png": "[encoded data removed]",
            "text/plain": [
              "<Figure size 1200x800 with 6 Axes>"
            ]
          },
          "metadata": {},
          "output_type": "display_data"
        }
      ],
      "source": [
        "fig = plt.figure(figsize = (12, 8), constrained_layout = True)\n",
        "ax1 = plt.subplot(2, 3, 1)\n",
        "sns.histplot(train,x= \"Temparature\", bins=10, ax = ax1)\n",
        "ax1.set_title(\"Temparature\")\n",
        "ax2 = plt.subplot(2,3, 2)\n",
        "sns.histplot(train,x= \"Humidity\", bins=10, ax = ax2)\n",
        "ax2.set_title(\"Humidity\")\n",
        "ax3 = plt.subplot(2,3, 3)\n",
        "sns.histplot(train,x= \"Moisture\", bins=10, ax = ax3)\n",
        "ax3.set_title(\"Moisture\")\n",
        "ax4 = plt.subplot(2,3,4)\n",
        "sns.histplot(train, x = \"Nitrogen\", bins = 25, ax = ax4)\n",
        "ax4.set_title(\"Nitrogen\")\n",
        "ax5  = plt.subplot(2,3,5)\n",
        "sns.histplot(train, x = \"Potassium\", bins = 25, ax = ax5)\n",
        "ax5.set_title(\"Potassium\")\n",
        "ax6 = plt.subplot(2,3,6)\n",
        "sns.histplot(train, x = \"Phosphorous\", bins = 25, ax = ax6)\n",
        "ax6.set_title(\"Phosphorous\")\n",
        "\n",
        "plt.show()"
      ]
    },
    {
      "cell_type": "code",
      "execution_count": 10,
      "metadata": {
        "id": "NvUve039mMwV"
      },
      "outputs": [],
      "source": [
        "long = pd.melt(train, id_vars = [\"Fertilizer Name\"],\n",
        "               value_vars = [\"Temparature\", \"Humidity\", \"Moisture\",\n",
        "                             \"Nitrogen\", \"Potassium\", \"Phosphorous\"])"
      ]
    },
    {
      "cell_type": "code",
      "execution_count": 11,
      "metadata": {
        "colab": {
          "base_uri": "https://localhost:8080/",
          "height": 457
        },
        "id": "DVc9cyPNsQoR",
        "outputId": "f3a1c8cf-c96f-42f4-d7b0-7d79f73c076f"
      },
      "outputs": [
        {
          "name": "stderr",
          "output_type": "stream",
          "text": [
            "/Users/sohengkhiong/anaconda3/lib/python3.12/site-packages/seaborn/axisgrid.py:123: UserWarning: The figure layout has changed to tight\n",
            "  self._figure.tight_layout(*args, **kwargs)\n"
          ]
        },
        {
          "data": {
            "text/plain": [
              "<Figure size 1200x800 with 0 Axes>"
            ]
          },
          "metadata": {},
          "output_type": "display_data"
        },
        {
          "data": {
            "image/png": "[encoded data removed]",
            "text/plain": [
              "<Figure size 511.111x500 with 1 Axes>"
            ]
          },
          "metadata": {},
          "output_type": "display_data"
        }
      ],
      "source": [
        "fig = plt.figure(figsize = (12, 8))\n",
        "sns.catplot(data = long, x = \"variable\", y = \"value\", kind = \"box\")\n",
        "plt.xticks(rotation = 90)\n",
        "plt.title(\"Box plot of the measured category\")\n",
        "plt.show()"
      ]
    },
    {
      "cell_type": "markdown",
      "metadata": {
        "id": "6vUaQrREujz_"
      },
      "source": [
        "From the above plot, the features are evenly distributed, and there is no outlier\n"
      ]
    },
    {
      "cell_type": "markdown",
      "metadata": {
        "id": "0LI2gShfAe43"
      },
      "source": [
        "# Machine learning"
      ]
    },
    {
      "cell_type": "code",
      "execution_count": 12,
      "metadata": {
        "id": "J6hTghKEGulR"
      },
      "outputs": [],
      "source": [
        "from sklearn.model_selection import train_test_split, GridSearchCV, StratifiedKFold, cross_val_score, RandomizedSearchCV\n",
        "from sklearn.pipeline import Pipeline\n",
        "from sklearn.compose import ColumnTransformer\n",
        "from sklearn.preprocessing import StandardScaler, OneHotEncoder, FunctionTransformer, MinMaxScaler, LabelEncoder\n",
        "from sklearn import set_config\n",
        "from sklearn.ensemble import RandomForestClassifier, GradientBoostingClassifier\n",
        "from sklearn.neighbors import KNeighborsClassifier\n",
        "from sklearn.metrics import accuracy_score, confusion_matrix, classification_report, roc_auc_score, f1_score, recall_score\n",
        "from sklearn.metrics import roc_curve, precision_score\n",
        "from sklearn.metrics import confusion_matrix, classification_report, ConfusionMatrixDisplay\n",
        "import xgboost as xgb\n",
        "\n",
        "import time\n",
        "\n",
        "set_config(transform_output=\"pandas\")\n"
      ]
    },
    {
      "cell_type": "code",
      "execution_count": 13,
      "metadata": {
        "id": "yFV3qOV0A8Ft"
      },
      "outputs": [],
      "source": [
        "RandomStateNumber = 13"
      ]
    },
    {
      "cell_type": "code",
      "execution_count": 14,
      "metadata": {
        "id": "PhyS2Je4AxWF"
      },
      "outputs": [],
      "source": [
        "train.head()\n",
        "X = train.drop([\"Fertilizer Name\"], axis = 1)\n",
        "y = train[\"Fertilizer Name\"]"
      ]
    },
    {
      "cell_type": "code",
      "execution_count": 15,
      "metadata": {
        "colab": {
          "base_uri": "https://localhost:8080/"
        },
        "id": "Miwd-JFgt7X3",
        "outputId": "77070a86-aaf8-48cf-cb45-e1aa1b3924c3"
      },
      "outputs": [],
      "source": [
        "X_train, X_val, y_train, y_val = train_test_split(X, y, test_size= 0.2, random_state= RandomStateNumber, stratify= y)\n",
        "le = LabelEncoder()\n",
        "y_train = le.fit_transform(y_train)\n",
        "y_val = le.transform(y_val)"
      ]
    },
    {
      "cell_type": "code",
      "execution_count": 16,
      "metadata": {},
      "outputs": [
        {
          "name": "stderr",
          "output_type": "stream",
          "text": [
            "<>:2: SyntaxWarning: invalid escape sequence '\\l'\n",
            "<>:2: SyntaxWarning: invalid escape sequence '\\l'\n",
            "/var/folders/zj/5lj7p7rx4fgdqqs7lp47p3vw0000gn/T/ipykernel_7096/775973519.py:2: SyntaxWarning: invalid escape sequence '\\l'\n",
            "  filename = \"fertilizer_classification\\le_classes.pkl\"\n"
          ]
        },
        {
          "data": {
            "text/plain": [
              "['fertilizer_classification\\\\le_classes.pkl']"
            ]
          },
          "execution_count": 16,
          "metadata": {},
          "output_type": "execute_result"
        }
      ],
      "source": [
        "import joblib\n",
        "filename = \"fertilizer_classification/le_classes.pkl\"\n",
        "joblib.dump(le, filename)"
      ]
    },
    {
      "cell_type": "code",
      "execution_count": 17,
      "metadata": {},
      "outputs": [
        {
          "data": {
            "text/plain": [
              "array(['10-26-26', '14-35-14', '17-17-17', '20-20', '28-28', 'DAP',\n",
              "       'Urea'], dtype=object)"
            ]
          },
          "execution_count": 17,
          "metadata": {},
          "output_type": "execute_result"
        }
      ],
      "source": [
        "le.classes_"
      ]
    },
    {
      "cell_type": "code",
      "execution_count": 18,
      "metadata": {
        "colab": {
          "base_uri": "https://localhost:8080/"
        },
        "id": "YKIbTkRRBfTv",
        "outputId": "b8a33ce3-be2d-46e4-d47a-585d907b8f32"
      },
      "outputs": [
        {
          "name": "stdout",
          "output_type": "stream",
          "text": [
            "<class 'pandas.core.frame.DataFrame'>\n",
            "Index: 600000 entries, 619640 to 227020\n",
            "Data columns (total 9 columns):\n",
            " #   Column       Non-Null Count   Dtype \n",
            "---  ------       --------------   ----- \n",
            " 0   id           600000 non-null  int64 \n",
            " 1   Temparature  600000 non-null  int64 \n",
            " 2   Humidity     600000 non-null  int64 \n",
            " 3   Moisture     600000 non-null  int64 \n",
            " 4   Soil Type    600000 non-null  object\n",
            " 5   Crop Type    600000 non-null  object\n",
            " 6   Nitrogen     600000 non-null  int64 \n",
            " 7   Potassium    600000 non-null  int64 \n",
            " 8   Phosphorous  600000 non-null  int64 \n",
            "dtypes: int64(7), object(2)\n",
            "memory usage: 45.8+ MB\n"
          ]
        }
      ],
      "source": [
        "X_train.info()"
      ]
    },
    {
      "cell_type": "markdown",
      "metadata": {
        "id": "AFd8p06cBM8T"
      },
      "source": [
        "## Pipeline"
      ]
    },
    {
      "cell_type": "code",
      "execution_count": 19,
      "metadata": {
        "id": "GujjHoUEc7DP"
      },
      "outputs": [],
      "source": [
        "# Feature engineering: add Power (W) feature in the data\n",
        "def feature_engineer(df):\n",
        "    df = df.copy()\n",
        "    df[\"temp_humidity\"] = df[\"Temparature\"] * df[\"Humidity\"]\n",
        "    df[\"temp_moisture\"] = df[\"Temparature\"] * df[\"Moisture\"]\n",
        "    df[\"humidity_moisture\"] = df[\"Humidity\"] * df[\"Moisture\"]\n",
        "    df[\"NPK\"] = df[\"Nitrogen\"] + df[\"Potassium\"] + df[\"Phosphorous\"]\n",
        "    df[\"Nitrogen_ratio\"] = df[\"Nitrogen\"] / df[\"NPK\"]\n",
        "    df[\"Potassium_ratio\"] = df[\"Potassium\"] / df[\"NPK\"]\n",
        "    df[\"Phosphorous_ratio\"] = df[\"Phosphorous\"] / df[\"NPK\"]\n",
        "\n",
        "    return df"
      ]
    },
    {
      "cell_type": "code",
      "execution_count": 20,
      "metadata": {
        "colab": {
          "base_uri": "https://localhost:8080/",
          "height": 176
        },
        "id": "tmMAzUvYheYR",
        "outputId": "a4f21f95-9bac-4eeb-b547-a32f774f3c9a"
      },
      "outputs": [
        {
          "data": {
            "text/plain": [
              "Nitrogen       17320356\n",
              "Potassium       7108722\n",
              "Phosphorous    15804920\n",
              "dtype: int64"
            ]
          },
          "execution_count": 20,
          "metadata": {},
          "output_type": "execute_result"
        }
      ],
      "source": [
        "train[[\"Nitrogen\", \"Potassium\", \"Phosphorous\"]].apply(sum)"
      ]
    },
    {
      "cell_type": "code",
      "execution_count": 21,
      "metadata": {
        "colab": {
          "base_uri": "https://localhost:8080/",
          "height": 317
        },
        "id": "6iPhHrf5froG",
        "outputId": "d2523067-7b60-428d-8833-2026075cde8f"
      },
      "outputs": [
        {
          "data": {
            "text/html": [
              "<div>\n",
              "<style scoped>\n",
              "    .dataframe tbody tr th:only-of-type {\n",
              "        vertical-align: middle;\n",
              "    }\n",
              "\n",
              "    .dataframe tbody tr th {\n",
              "        vertical-align: top;\n",
              "    }\n",
              "\n",
              "    .dataframe thead th {\n",
              "        text-align: right;\n",
              "    }\n",
              "</style>\n",
              "<table border=\"1\" class=\"dataframe\">\n",
              "  <thead>\n",
              "    <tr style=\"text-align: right;\">\n",
              "      <th></th>\n",
              "      <th>id</th>\n",
              "      <th>Temparature</th>\n",
              "      <th>Humidity</th>\n",
              "      <th>Moisture</th>\n",
              "      <th>Nitrogen</th>\n",
              "      <th>Potassium</th>\n",
              "      <th>Phosphorous</th>\n",
              "      <th>temp_humidity</th>\n",
              "      <th>temp_moisture</th>\n",
              "      <th>humidity_moisture</th>\n",
              "      <th>NPK</th>\n",
              "      <th>Nitrogen_ratio</th>\n",
              "      <th>Potassium_ratio</th>\n",
              "      <th>Phosphorous_ratio</th>\n",
              "    </tr>\n",
              "  </thead>\n",
              "  <tbody>\n",
              "    <tr>\n",
              "      <th>count</th>\n",
              "      <td>600000.000000</td>\n",
              "      <td>600000.000000</td>\n",
              "      <td>600000.000000</td>\n",
              "      <td>600000.000000</td>\n",
              "      <td>600000.000000</td>\n",
              "      <td>600000.000000</td>\n",
              "      <td>600000.000000</td>\n",
              "      <td>600000.000000</td>\n",
              "      <td>600000.000000</td>\n",
              "      <td>600000.000000</td>\n",
              "      <td>600000.000000</td>\n",
              "      <td>600000.000000</td>\n",
              "      <td>600000.000000</td>\n",
              "      <td>600000.000000</td>\n",
              "    </tr>\n",
              "    <tr>\n",
              "      <th>mean</th>\n",
              "      <td>374864.589293</td>\n",
              "      <td>31.504830</td>\n",
              "      <td>61.045752</td>\n",
              "      <td>45.188795</td>\n",
              "      <td>23.099387</td>\n",
              "      <td>9.484050</td>\n",
              "      <td>21.066090</td>\n",
              "      <td>1923.274668</td>\n",
              "      <td>1423.584205</td>\n",
              "      <td>2758.827233</td>\n",
              "      <td>53.649527</td>\n",
              "      <td>0.435078</td>\n",
              "      <td>0.186519</td>\n",
              "      <td>0.378403</td>\n",
              "    </tr>\n",
              "    <tr>\n",
              "      <th>std</th>\n",
              "      <td>216549.662174</td>\n",
              "      <td>4.024349</td>\n",
              "      <td>6.645135</td>\n",
              "      <td>11.794920</td>\n",
              "      <td>11.213131</td>\n",
              "      <td>5.765672</td>\n",
              "      <td>12.343262</td>\n",
              "      <td>324.222201</td>\n",
              "      <td>416.233272</td>\n",
              "      <td>784.634657</td>\n",
              "      <td>17.599780</td>\n",
              "      <td>0.181693</td>\n",
              "      <td>0.125163</td>\n",
              "      <td>0.189149</td>\n",
              "    </tr>\n",
              "    <tr>\n",
              "      <th>min</th>\n",
              "      <td>0.000000</td>\n",
              "      <td>25.000000</td>\n",
              "      <td>50.000000</td>\n",
              "      <td>25.000000</td>\n",
              "      <td>4.000000</td>\n",
              "      <td>0.000000</td>\n",
              "      <td>0.000000</td>\n",
              "      <td>1250.000000</td>\n",
              "      <td>625.000000</td>\n",
              "      <td>1250.000000</td>\n",
              "      <td>4.000000</td>\n",
              "      <td>0.061538</td>\n",
              "      <td>0.000000</td>\n",
              "      <td>0.000000</td>\n",
              "    </tr>\n",
              "    <tr>\n",
              "      <th>25%</th>\n",
              "      <td>187356.750000</td>\n",
              "      <td>28.000000</td>\n",
              "      <td>55.000000</td>\n",
              "      <td>35.000000</td>\n",
              "      <td>13.000000</td>\n",
              "      <td>4.000000</td>\n",
              "      <td>10.000000</td>\n",
              "      <td>1682.000000</td>\n",
              "      <td>1085.000000</td>\n",
              "      <td>2108.000000</td>\n",
              "      <td>41.000000</td>\n",
              "      <td>0.303030</td>\n",
              "      <td>0.092105</td>\n",
              "      <td>0.242424</td>\n",
              "    </tr>\n",
              "    <tr>\n",
              "      <th>50%</th>\n",
              "      <td>374811.500000</td>\n",
              "      <td>32.000000</td>\n",
              "      <td>61.000000</td>\n",
              "      <td>45.000000</td>\n",
              "      <td>23.000000</td>\n",
              "      <td>9.000000</td>\n",
              "      <td>21.000000</td>\n",
              "      <td>1900.000000</td>\n",
              "      <td>1404.000000</td>\n",
              "      <td>2736.000000</td>\n",
              "      <td>54.000000</td>\n",
              "      <td>0.431034</td>\n",
              "      <td>0.177419</td>\n",
              "      <td>0.392857</td>\n",
              "    </tr>\n",
              "    <tr>\n",
              "      <th>75%</th>\n",
              "      <td>562465.250000</td>\n",
              "      <td>35.000000</td>\n",
              "      <td>67.000000</td>\n",
              "      <td>55.000000</td>\n",
              "      <td>33.000000</td>\n",
              "      <td>14.000000</td>\n",
              "      <td>32.000000</td>\n",
              "      <td>2145.000000</td>\n",
              "      <td>1728.000000</td>\n",
              "      <td>3348.000000</td>\n",
              "      <td>66.000000</td>\n",
              "      <td>0.552632</td>\n",
              "      <td>0.257143</td>\n",
              "      <td>0.509804</td>\n",
              "    </tr>\n",
              "    <tr>\n",
              "      <th>max</th>\n",
              "      <td>749998.000000</td>\n",
              "      <td>38.000000</td>\n",
              "      <td>72.000000</td>\n",
              "      <td>65.000000</td>\n",
              "      <td>42.000000</td>\n",
              "      <td>19.000000</td>\n",
              "      <td>42.000000</td>\n",
              "      <td>2736.000000</td>\n",
              "      <td>2470.000000</td>\n",
              "      <td>4680.000000</td>\n",
              "      <td>103.000000</td>\n",
              "      <td>1.000000</td>\n",
              "      <td>0.826087</td>\n",
              "      <td>0.913043</td>\n",
              "    </tr>\n",
              "  </tbody>\n",
              "</table>\n",
              "</div>"
            ],
            "text/plain": [
              "                  id    Temparature       Humidity       Moisture  \\\n",
              "count  600000.000000  600000.000000  600000.000000  600000.000000   \n",
              "mean   374864.589293      31.504830      61.045752      45.188795   \n",
              "std    216549.662174       4.024349       6.645135      11.794920   \n",
              "min         0.000000      25.000000      50.000000      25.000000   \n",
              "25%    187356.750000      28.000000      55.000000      35.000000   \n",
              "50%    374811.500000      32.000000      61.000000      45.000000   \n",
              "75%    562465.250000      35.000000      67.000000      55.000000   \n",
              "max    749998.000000      38.000000      72.000000      65.000000   \n",
              "\n",
              "            Nitrogen      Potassium    Phosphorous  temp_humidity  \\\n",
              "count  600000.000000  600000.000000  600000.000000  600000.000000   \n",
              "mean       23.099387       9.484050      21.066090    1923.274668   \n",
              "std        11.213131       5.765672      12.343262     324.222201   \n",
              "min         4.000000       0.000000       0.000000    1250.000000   \n",
              "25%        13.000000       4.000000      10.000000    1682.000000   \n",
              "50%        23.000000       9.000000      21.000000    1900.000000   \n",
              "75%        33.000000      14.000000      32.000000    2145.000000   \n",
              "max        42.000000      19.000000      42.000000    2736.000000   \n",
              "\n",
              "       temp_moisture  humidity_moisture            NPK  Nitrogen_ratio  \\\n",
              "count  600000.000000      600000.000000  600000.000000   600000.000000   \n",
              "mean     1423.584205        2758.827233      53.649527        0.435078   \n",
              "std       416.233272         784.634657      17.599780        0.181693   \n",
              "min       625.000000        1250.000000       4.000000        0.061538   \n",
              "25%      1085.000000        2108.000000      41.000000        0.303030   \n",
              "50%      1404.000000        2736.000000      54.000000        0.431034   \n",
              "75%      1728.000000        3348.000000      66.000000        0.552632   \n",
              "max      2470.000000        4680.000000     103.000000        1.000000   \n",
              "\n",
              "       Potassium_ratio  Phosphorous_ratio  \n",
              "count    600000.000000      600000.000000  \n",
              "mean          0.186519           0.378403  \n",
              "std           0.125163           0.189149  \n",
              "min           0.000000           0.000000  \n",
              "25%           0.092105           0.242424  \n",
              "50%           0.177419           0.392857  \n",
              "75%           0.257143           0.509804  \n",
              "max           0.826087           0.913043  "
            ]
          },
          "execution_count": 21,
          "metadata": {},
          "output_type": "execute_result"
        }
      ],
      "source": [
        "feature_engineer(X_train).describe()"
      ]
    },
    {
      "cell_type": "code",
      "execution_count": 22,
      "metadata": {
        "id": "LslKOBnpBCN3"
      },
      "outputs": [],
      "source": [
        "feature_transformer = FunctionTransformer(feature_engineer)\n",
        "\n",
        "numeric_features = [\n",
        "    \"Temparature\", \"Humidity\", \"Moisture\",\n",
        "    \"Nitrogen\", \"Potassium\", \"Phosphorous\",\n",
        "    # \"temp_humidity\", \"temp_moisture\", \"humidity_moisture\",\n",
        "    # \"Nitrogen_ratio\", \"Potassium_ratio\", \"Phosphorous_ratio\"\n",
        "]\n",
        "\n",
        "categorical_features = [\n",
        "    \"Soil Type\", \"Crop Type\"\n",
        "]\n",
        "\n",
        "# Column Transformer for the different transformation\n",
        "numericColumns = ColumnTransformer(\n",
        "    transformers = [\n",
        "        ('num', MinMaxScaler(), numeric_features),\n",
        "    ],\n",
        "    remainder = \"passthrough\",\n",
        "    verbose_feature_names_out= False\n",
        ")\n",
        "\n",
        "\n",
        "transformColumns = ColumnTransformer(\n",
        "    transformers =[\n",
        "        ('num', MinMaxScaler(), numeric_features),\n",
        "         ('cat', OneHotEncoder(sparse_output= False), categorical_features)\n",
        "         ],\n",
        "    verbose_feature_names_out= False)\n",
        "\n",
        "chartprocessing = Pipeline(\n",
        "    [\n",
        "        ('feature_engineering', feature_transformer),\n",
        "        ('numeric_Columns', numericColumns)\n",
        "        ]\n",
        "    )\n",
        "\n",
        "preprocessing = Pipeline(\n",
        "    [\n",
        "        # ('feature_engineering', feature_transformer),\n",
        "        ('transformColumns', transformColumns)\n",
        "        ]\n",
        "    )\n",
        "\n",
        "# # Create pipeline\n",
        "pipe = Pipeline([\n",
        "    ('classifier', RandomForestClassifier(random_state= RandomStateNumber)) # Placeholder model\n",
        "    ,\n",
        "])"
      ]
    },
    {
      "cell_type": "code",
      "execution_count": 23,
      "metadata": {
        "id": "T76GRvdDCW8M"
      },
      "outputs": [],
      "source": [
        "# preprocess train & test data\n",
        "X_train_scaled = preprocessing.fit_transform(X_train)\n",
        "X_val_scaled = preprocessing.transform(X_val)"
      ]
    },
    {
      "cell_type": "code",
      "execution_count": 24,
      "metadata": {
        "colab": {
          "base_uri": "https://localhost:8080/"
        },
        "id": "Gih3sZcpCwuI",
        "outputId": "ccbaa2eb-702e-4c4c-8333-cdaa67e299f6"
      },
      "outputs": [
        {
          "name": "stdout",
          "output_type": "stream",
          "text": [
            "<class 'pandas.core.frame.DataFrame'>\n",
            "Index: 600000 entries, 619640 to 227020\n",
            "Data columns (total 22 columns):\n",
            " #   Column                 Non-Null Count   Dtype  \n",
            "---  ------                 --------------   -----  \n",
            " 0   Temparature            600000 non-null  float64\n",
            " 1   Humidity               600000 non-null  float64\n",
            " 2   Moisture               600000 non-null  float64\n",
            " 3   Nitrogen               600000 non-null  float64\n",
            " 4   Potassium              600000 non-null  float64\n",
            " 5   Phosphorous            600000 non-null  float64\n",
            " 6   Soil Type_Black        600000 non-null  float64\n",
            " 7   Soil Type_Clayey       600000 non-null  float64\n",
            " 8   Soil Type_Loamy        600000 non-null  float64\n",
            " 9   Soil Type_Red          600000 non-null  float64\n",
            " 10  Soil Type_Sandy        600000 non-null  float64\n",
            " 11  Crop Type_Barley       600000 non-null  float64\n",
            " 12  Crop Type_Cotton       600000 non-null  float64\n",
            " 13  Crop Type_Ground Nuts  600000 non-null  float64\n",
            " 14  Crop Type_Maize        600000 non-null  float64\n",
            " 15  Crop Type_Millets      600000 non-null  float64\n",
            " 16  Crop Type_Oil seeds    600000 non-null  float64\n",
            " 17  Crop Type_Paddy        600000 non-null  float64\n",
            " 18  Crop Type_Pulses       600000 non-null  float64\n",
            " 19  Crop Type_Sugarcane    600000 non-null  float64\n",
            " 20  Crop Type_Tobacco      600000 non-null  float64\n",
            " 21  Crop Type_Wheat        600000 non-null  float64\n",
            "dtypes: float64(22)\n",
            "memory usage: 105.3 MB\n"
          ]
        }
      ],
      "source": [
        "X_train_scaled.info()"
      ]
    },
    {
      "cell_type": "code",
      "execution_count": 25,
      "metadata": {
        "colab": {
          "base_uri": "https://localhost:8080/",
          "height": 256
        },
        "id": "GSegagRqEyrA",
        "outputId": "0ea918d2-61dd-467f-c656-cfa14a16eff7"
      },
      "outputs": [
        {
          "data": {
            "image/png": "[encoded data removed]",
            "text/plain": [
              "<Figure size 640x480 with 2 Axes>"
            ]
          },
          "metadata": {},
          "output_type": "display_data"
        }
      ],
      "source": [
        "sns.heatmap(X_train_scaled[numeric_features].corr(numeric_only = True), annot = True, fmt= \".2f\", cmap = \"viridis\")\n",
        "plt.xticks(rotation = 90);"
      ]
    },
    {
      "cell_type": "markdown",
      "metadata": {
        "id": "wGpGflR8GhKT"
      },
      "source": [
        "## Model"
      ]
    },
    {
      "cell_type": "code",
      "execution_count": 26,
      "metadata": {
        "id": "8sq1aaWcF6pd"
      },
      "outputs": [],
      "source": [
        "# Stratified KFold for cross valuation score\n",
        "\n",
        "stratified_cv = StratifiedKFold(n_splits=5, shuffle=True, random_state= RandomStateNumber)\n",
        "summaries = []\n",
        "scoring_metrics = \"accuracy\""
      ]
    },
    {
      "cell_type": "markdown",
      "metadata": {},
      "source": [
        "# XGBoost"
      ]
    },
    {
      "cell_type": "code",
      "execution_count": 27,
      "metadata": {
        "id": "FmxfhLD5G8t3"
      },
      "outputs": [
        {
          "name": "stdout",
          "output_type": "stream",
          "text": [
            "Test accuracy 0.19408\n",
            "\n",
            "Classification Report\n",
            "               precision    recall  f1-score   support\n",
            "\n",
            "           0       0.20      0.23      0.21     22777\n",
            "           1       0.19      0.26      0.22     22887\n",
            "           2       0.20      0.24      0.22     22491\n",
            "           3       0.19      0.19      0.19     22178\n",
            "           4       0.19      0.21      0.20     22232\n",
            "           5       0.20      0.13      0.16     18972\n",
            "           6       0.19      0.08      0.11     18463\n",
            "\n",
            "    accuracy                           0.19    150000\n",
            "   macro avg       0.19      0.19      0.19    150000\n",
            "weighted avg       0.19      0.19      0.19    150000\n",
            "\n",
            "\n",
            "Confusion Matrix:\n",
            " [[5212 4495 3699 3238 3503 1622 1008]\n",
            " [3910 5910 3846 3066 3453 1713  989]\n",
            " [3692 4376 5290 3072 3440 1606 1015]\n",
            " [3818 4287 3758 4131 3426 1747 1011]\n",
            " [3694 4175 3688 3249 4701 1654 1071]\n",
            " [3156 3563 2908 2845 3115 2460  925]\n",
            " [3035 3538 3129 2626 3127 1600 1408]]\n"
          ]
        }
      ],
      "source": [
        "xgb_classisfier = xgb.XGBClassifier(random_state= RandomStateNumber)\n",
        "xgb_classisfier.fit(X_train_scaled, y_train)\n",
        "\n",
        "y_pred = xgb_classisfier.predict(X_val_scaled)\n",
        "y_pred\n",
        "\n",
        "test_accuracy = accuracy_score(y_val, y_pred)\n",
        "print(\"Test accuracy\", test_accuracy)\n",
        "print(\"\\nClassification Report\\n\", classification_report(y_val, y_pred))\n",
        "print(\"\\nConfusion Matrix:\\n\", confusion_matrix(y_val, y_pred))\n",
        "\n"
      ]
    },
    {
      "cell_type": "code",
      "execution_count": 28,
      "metadata": {},
      "outputs": [
        {
          "name": "stdout",
          "output_type": "stream",
          "text": [
            "Fitting 5 folds for each of 20 candidates, totalling 100 fits\n",
            "[CV] END colsample_bytree=1.0, learning_rate=0.01, max_depth=6, min_child_weight=5, n_estimators=100, reg_alpha=0.1, reg_lambda=1, subsample=1.0; total time=  33.0s\n",
            "[CV] END colsample_bytree=1.0, learning_rate=0.01, max_depth=6, min_child_weight=5, n_estimators=100, reg_alpha=0.1, reg_lambda=1, subsample=1.0; total time=  33.3s\n",
            "[CV] END colsample_bytree=1.0, learning_rate=0.01, max_depth=6, min_child_weight=5, n_estimators=100, reg_alpha=0.1, reg_lambda=1, subsample=1.0; total time=  33.3s\n",
            "[CV] END colsample_bytree=1.0, learning_rate=0.01, max_depth=6, min_child_weight=5, n_estimators=100, reg_alpha=0.1, reg_lambda=1, subsample=1.0; total time=  33.2s\n",
            "[CV] END colsample_bytree=1.0, learning_rate=0.01, max_depth=6, min_child_weight=5, n_estimators=100, reg_alpha=0.1, reg_lambda=1, subsample=1.0; total time=  33.6s\n",
            "[CV] END colsample_bytree=0.7, learning_rate=0.1, max_depth=6, min_child_weight=5, n_estimators=100, reg_alpha=0.01, reg_lambda=0.5, subsample=1.0; total time=  33.7s\n",
            "[CV] END colsample_bytree=0.7, learning_rate=0.1, max_depth=6, min_child_weight=5, n_estimators=100, reg_alpha=0.01, reg_lambda=0.5, subsample=1.0; total time=  33.6s\n",
            "[CV] END colsample_bytree=0.7, learning_rate=0.1, max_depth=6, min_child_weight=5, n_estimators=100, reg_alpha=0.01, reg_lambda=0.5, subsample=1.0; total time=  33.9s\n",
            "[CV] END colsample_bytree=0.7, learning_rate=0.1, max_depth=6, min_child_weight=5, n_estimators=100, reg_alpha=0.01, reg_lambda=0.5, subsample=1.0; total time=  33.8s\n",
            "[CV] END colsample_bytree=0.7, learning_rate=0.1, max_depth=6, min_child_weight=5, n_estimators=100, reg_alpha=0.01, reg_lambda=0.5, subsample=1.0; total time=  33.9s\n",
            "[CV] END colsample_bytree=0.85, learning_rate=0.1, max_depth=3, min_child_weight=3, n_estimators=100, reg_alpha=1, reg_lambda=1, subsample=1.0; total time=  23.1s\n",
            "[CV] END colsample_bytree=0.85, learning_rate=0.1, max_depth=3, min_child_weight=3, n_estimators=100, reg_alpha=1, reg_lambda=1, subsample=1.0; total time=  23.1s\n",
            "[CV] END colsample_bytree=0.85, learning_rate=0.1, max_depth=3, min_child_weight=3, n_estimators=100, reg_alpha=1, reg_lambda=1, subsample=1.0; total time=  23.3s\n",
            "[CV] END colsample_bytree=0.85, learning_rate=0.1, max_depth=3, min_child_weight=3, n_estimators=100, reg_alpha=1, reg_lambda=1, subsample=1.0; total time=  23.6s\n",
            "[CV] END colsample_bytree=0.85, learning_rate=0.1, max_depth=3, min_child_weight=3, n_estimators=100, reg_alpha=1, reg_lambda=1, subsample=1.0; total time=  23.9s\n",
            "[CV] END colsample_bytree=0.7, learning_rate=0.1, max_depth=3, min_child_weight=3, n_estimators=200, reg_alpha=0.1, reg_lambda=1, subsample=1.0; total time=  50.4s\n",
            "[CV] END colsample_bytree=0.7, learning_rate=0.1, max_depth=3, min_child_weight=3, n_estimators=200, reg_alpha=0.1, reg_lambda=1, subsample=1.0; total time=  50.6s\n",
            "[CV] END colsample_bytree=0.7, learning_rate=0.1, max_depth=3, min_child_weight=3, n_estimators=200, reg_alpha=0.1, reg_lambda=1, subsample=1.0; total time=  50.4s\n",
            "[CV] END colsample_bytree=0.7, learning_rate=0.1, max_depth=3, min_child_weight=3, n_estimators=200, reg_alpha=0.1, reg_lambda=1, subsample=1.0; total time=  50.6s\n",
            "[CV] END colsample_bytree=0.7, learning_rate=0.1, max_depth=3, min_child_weight=3, n_estimators=200, reg_alpha=0.1, reg_lambda=1, subsample=1.0; total time=  50.7s\n",
            "[CV] END colsample_bytree=0.7, learning_rate=0.01, max_depth=6, min_child_weight=3, n_estimators=100, reg_alpha=10, reg_lambda=0.7, subsample=1.0; total time=  45.7s\n",
            "[CV] END colsample_bytree=0.7, learning_rate=0.01, max_depth=6, min_child_weight=3, n_estimators=100, reg_alpha=10, reg_lambda=0.7, subsample=1.0; total time=  46.4s\n",
            "[CV] END colsample_bytree=0.7, learning_rate=0.01, max_depth=6, min_child_weight=3, n_estimators=100, reg_alpha=10, reg_lambda=0.7, subsample=1.0; total time=  46.3s\n",
            "[CV] END colsample_bytree=0.7, learning_rate=0.01, max_depth=6, min_child_weight=3, n_estimators=100, reg_alpha=10, reg_lambda=0.7, subsample=1.0; total time=  46.3s\n",
            "[CV] END colsample_bytree=0.7, learning_rate=0.01, max_depth=6, min_child_weight=3, n_estimators=100, reg_alpha=10, reg_lambda=0.7, subsample=1.0; total time=  46.1s\n",
            "[CV] END colsample_bytree=1.0, learning_rate=0.1, max_depth=9, min_child_weight=5, n_estimators=100, reg_alpha=0.1, reg_lambda=1.3, subsample=0.7; total time= 1.2min\n",
            "[CV] END colsample_bytree=1.0, learning_rate=0.1, max_depth=9, min_child_weight=5, n_estimators=100, reg_alpha=0.1, reg_lambda=1.3, subsample=0.7; total time= 1.2min\n",
            "[CV] END colsample_bytree=1.0, learning_rate=0.1, max_depth=9, min_child_weight=5, n_estimators=100, reg_alpha=0.1, reg_lambda=1.3, subsample=0.7; total time= 1.3min\n",
            "[CV] END colsample_bytree=1.0, learning_rate=0.1, max_depth=9, min_child_weight=5, n_estimators=100, reg_alpha=0.1, reg_lambda=1.3, subsample=0.7; total time= 1.2min\n",
            "[CV] END colsample_bytree=1.0, learning_rate=0.1, max_depth=9, min_child_weight=5, n_estimators=100, reg_alpha=0.1, reg_lambda=1.3, subsample=0.7; total time= 1.2min\n",
            "[CV] END colsample_bytree=0.7, learning_rate=0.1, max_depth=3, min_child_weight=1, n_estimators=100, reg_alpha=0.01, reg_lambda=0.7, subsample=0.7; total time=  33.4s\n",
            "[CV] END colsample_bytree=0.7, learning_rate=0.1, max_depth=3, min_child_weight=1, n_estimators=100, reg_alpha=0.01, reg_lambda=0.7, subsample=0.7; total time=  33.4s\n",
            "[CV] END colsample_bytree=0.7, learning_rate=0.1, max_depth=3, min_child_weight=1, n_estimators=100, reg_alpha=0.01, reg_lambda=0.7, subsample=0.7; total time=  33.6s\n",
            "[CV] END colsample_bytree=0.7, learning_rate=0.1, max_depth=3, min_child_weight=1, n_estimators=100, reg_alpha=0.01, reg_lambda=0.7, subsample=0.7; total time=  34.0s\n",
            "[CV] END colsample_bytree=0.7, learning_rate=0.1, max_depth=3, min_child_weight=1, n_estimators=100, reg_alpha=0.01, reg_lambda=0.7, subsample=0.7; total time=  34.1s\n",
            "[CV] END colsample_bytree=0.7, learning_rate=0.01, max_depth=3, min_child_weight=1, n_estimators=200, reg_alpha=0, reg_lambda=1.3, subsample=1.0; total time= 1.2min\n",
            "[CV] END colsample_bytree=0.7, learning_rate=0.01, max_depth=3, min_child_weight=1, n_estimators=200, reg_alpha=0, reg_lambda=1.3, subsample=1.0; total time= 1.3min\n",
            "[CV] END colsample_bytree=0.7, learning_rate=0.01, max_depth=3, min_child_weight=1, n_estimators=200, reg_alpha=0, reg_lambda=1.3, subsample=1.0; total time= 1.3min\n",
            "[CV] END colsample_bytree=0.7, learning_rate=0.01, max_depth=3, min_child_weight=1, n_estimators=200, reg_alpha=0, reg_lambda=1.3, subsample=1.0; total time= 1.3min\n",
            "[CV] END colsample_bytree=0.7, learning_rate=0.01, max_depth=3, min_child_weight=1, n_estimators=200, reg_alpha=0, reg_lambda=1.3, subsample=1.0; total time= 1.3min\n",
            "[CV] END colsample_bytree=1.0, learning_rate=0.1, max_depth=6, min_child_weight=3, n_estimators=100, reg_alpha=10, reg_lambda=0.5, subsample=0.7; total time= 1.6min\n",
            "[CV] END colsample_bytree=1.0, learning_rate=0.1, max_depth=6, min_child_weight=3, n_estimators=100, reg_alpha=10, reg_lambda=0.5, subsample=0.7; total time= 1.6min\n",
            "[CV] END colsample_bytree=1.0, learning_rate=0.1, max_depth=6, min_child_weight=3, n_estimators=100, reg_alpha=10, reg_lambda=0.5, subsample=0.7; total time= 1.6min\n",
            "[CV] END colsample_bytree=1.0, learning_rate=0.1, max_depth=6, min_child_weight=3, n_estimators=100, reg_alpha=10, reg_lambda=0.5, subsample=0.7; total time= 1.6min\n",
            "[CV] END colsample_bytree=1.0, learning_rate=0.1, max_depth=6, min_child_weight=3, n_estimators=100, reg_alpha=10, reg_lambda=0.5, subsample=0.7; total time= 1.6min\n",
            "[CV] END colsample_bytree=0.7, learning_rate=0.2, max_depth=3, min_child_weight=5, n_estimators=200, reg_alpha=10, reg_lambda=1, subsample=0.7; total time= 2.1min\n",
            "[CV] END colsample_bytree=0.7, learning_rate=0.2, max_depth=3, min_child_weight=5, n_estimators=200, reg_alpha=10, reg_lambda=1, subsample=0.7; total time= 2.0min\n",
            "[CV] END colsample_bytree=0.7, learning_rate=0.2, max_depth=3, min_child_weight=5, n_estimators=200, reg_alpha=10, reg_lambda=1, subsample=0.7; total time= 2.1min\n",
            "[CV] END colsample_bytree=0.7, learning_rate=0.2, max_depth=3, min_child_weight=5, n_estimators=200, reg_alpha=10, reg_lambda=1, subsample=0.7; total time= 2.1min\n",
            "[CV] END colsample_bytree=0.7, learning_rate=0.2, max_depth=3, min_child_weight=5, n_estimators=200, reg_alpha=10, reg_lambda=1, subsample=0.7; total time= 2.0min\n",
            "[CV] END colsample_bytree=1.0, learning_rate=0.1, max_depth=6, min_child_weight=3, n_estimators=200, reg_alpha=0.1, reg_lambda=0.7, subsample=0.7; total time= 2.6min\n",
            "[CV] END colsample_bytree=0.85, learning_rate=0.1, max_depth=9, min_child_weight=5, n_estimators=200, reg_alpha=10, reg_lambda=0.5, subsample=1.0; total time= 3.8min\n",
            "[CV] END colsample_bytree=0.85, learning_rate=0.1, max_depth=9, min_child_weight=5, n_estimators=200, reg_alpha=10, reg_lambda=0.5, subsample=1.0; total time= 3.7min\n",
            "[CV] END colsample_bytree=0.85, learning_rate=0.1, max_depth=9, min_child_weight=5, n_estimators=200, reg_alpha=10, reg_lambda=0.5, subsample=1.0; total time= 3.7min\n",
            "[CV] END colsample_bytree=1.0, learning_rate=0.1, max_depth=6, min_child_weight=3, n_estimators=200, reg_alpha=0.1, reg_lambda=0.7, subsample=0.7; total time= 2.6min\n",
            "[CV] END colsample_bytree=1.0, learning_rate=0.1, max_depth=6, min_child_weight=3, n_estimators=200, reg_alpha=0.1, reg_lambda=0.7, subsample=0.7; total time= 2.6min\n",
            "[CV] END colsample_bytree=1.0, learning_rate=0.1, max_depth=6, min_child_weight=3, n_estimators=200, reg_alpha=0.1, reg_lambda=0.7, subsample=0.7; total time= 2.6min\n",
            "[CV] END colsample_bytree=0.85, learning_rate=0.1, max_depth=9, min_child_weight=5, n_estimators=200, reg_alpha=10, reg_lambda=0.5, subsample=1.0; total time= 3.8min\n",
            "[CV] END colsample_bytree=0.85, learning_rate=0.1, max_depth=9, min_child_weight=5, n_estimators=200, reg_alpha=10, reg_lambda=0.5, subsample=1.0; total time= 3.8min\n",
            "[CV] END colsample_bytree=1.0, learning_rate=0.1, max_depth=6, min_child_weight=3, n_estimators=200, reg_alpha=0.1, reg_lambda=0.7, subsample=0.7; total time= 2.6min\n",
            "[CV] END colsample_bytree=0.7, learning_rate=0.2, max_depth=3, min_child_weight=1, n_estimators=100, reg_alpha=0, reg_lambda=1, subsample=0.7; total time= 1.6min\n",
            "[CV] END colsample_bytree=0.7, learning_rate=0.2, max_depth=3, min_child_weight=1, n_estimators=100, reg_alpha=0, reg_lambda=1, subsample=0.7; total time= 1.6min\n",
            "[CV] END colsample_bytree=0.7, learning_rate=0.2, max_depth=3, min_child_weight=1, n_estimators=100, reg_alpha=0, reg_lambda=1, subsample=0.7; total time= 1.6min\n",
            "[CV] END colsample_bytree=0.7, learning_rate=0.2, max_depth=3, min_child_weight=1, n_estimators=100, reg_alpha=0, reg_lambda=1, subsample=0.7; total time= 1.6min\n",
            "[CV] END colsample_bytree=0.7, learning_rate=0.2, max_depth=3, min_child_weight=1, n_estimators=100, reg_alpha=0, reg_lambda=1, subsample=0.7; total time= 1.6min\n",
            "[CV] END colsample_bytree=1.0, learning_rate=0.1, max_depth=6, min_child_weight=5, n_estimators=200, reg_alpha=1, reg_lambda=1.3, subsample=0.7; total time= 4.6min\n",
            "[CV] END colsample_bytree=1.0, learning_rate=0.1, max_depth=6, min_child_weight=5, n_estimators=200, reg_alpha=1, reg_lambda=1.3, subsample=0.7; total time= 4.6min\n",
            "[CV] END colsample_bytree=1.0, learning_rate=0.1, max_depth=6, min_child_weight=5, n_estimators=200, reg_alpha=1, reg_lambda=1.3, subsample=0.7; total time= 4.6min\n",
            "[CV] END colsample_bytree=1.0, learning_rate=0.1, max_depth=6, min_child_weight=5, n_estimators=200, reg_alpha=1, reg_lambda=1.3, subsample=0.7; total time= 4.6min\n",
            "[CV] END colsample_bytree=1.0, learning_rate=0.1, max_depth=6, min_child_weight=5, n_estimators=200, reg_alpha=1, reg_lambda=1.3, subsample=0.7; total time= 4.6min\n",
            "[CV] END colsample_bytree=1.0, learning_rate=0.01, max_depth=3, min_child_weight=3, n_estimators=100, reg_alpha=1, reg_lambda=1.3, subsample=1.0; total time= 1.4min\n",
            "[CV] END colsample_bytree=1.0, learning_rate=0.01, max_depth=3, min_child_weight=3, n_estimators=100, reg_alpha=1, reg_lambda=1.3, subsample=1.0; total time= 1.4min\n",
            "[CV] END colsample_bytree=1.0, learning_rate=0.01, max_depth=3, min_child_weight=3, n_estimators=100, reg_alpha=1, reg_lambda=1.3, subsample=1.0; total time= 1.4min\n",
            "[CV] END colsample_bytree=1.0, learning_rate=0.01, max_depth=3, min_child_weight=3, n_estimators=100, reg_alpha=1, reg_lambda=1.3, subsample=1.0; total time= 1.4min\n",
            "[CV] END colsample_bytree=1.0, learning_rate=0.01, max_depth=3, min_child_weight=3, n_estimators=100, reg_alpha=1, reg_lambda=1.3, subsample=1.0; total time= 1.4min\n",
            "[CV] END colsample_bytree=0.85, learning_rate=0.2, max_depth=9, min_child_weight=1, n_estimators=200, reg_alpha=1, reg_lambda=1.3, subsample=1.0; total time= 6.5min\n",
            "[CV] END colsample_bytree=0.85, learning_rate=0.2, max_depth=9, min_child_weight=1, n_estimators=200, reg_alpha=1, reg_lambda=1.3, subsample=1.0; total time= 6.5min\n",
            "[CV] END colsample_bytree=0.85, learning_rate=0.2, max_depth=9, min_child_weight=1, n_estimators=200, reg_alpha=1, reg_lambda=1.3, subsample=1.0; total time= 6.5min\n",
            "[CV] END colsample_bytree=0.85, learning_rate=0.2, max_depth=9, min_child_weight=1, n_estimators=200, reg_alpha=1, reg_lambda=1.3, subsample=1.0; total time= 6.5min\n",
            "[CV] END colsample_bytree=0.85, learning_rate=0.2, max_depth=9, min_child_weight=1, n_estimators=200, reg_alpha=1, reg_lambda=1.3, subsample=1.0; total time= 6.5min\n",
            "[CV] END colsample_bytree=1.0, learning_rate=0.01, max_depth=3, min_child_weight=5, n_estimators=200, reg_alpha=0, reg_lambda=1, subsample=0.7; total time= 2.8min\n",
            "[CV] END colsample_bytree=1.0, learning_rate=0.01, max_depth=3, min_child_weight=5, n_estimators=200, reg_alpha=0, reg_lambda=1, subsample=0.7; total time= 2.8min\n",
            "[CV] END colsample_bytree=1.0, learning_rate=0.01, max_depth=3, min_child_weight=5, n_estimators=200, reg_alpha=0, reg_lambda=1, subsample=0.7; total time= 2.8min\n",
            "[CV] END colsample_bytree=1.0, learning_rate=0.01, max_depth=3, min_child_weight=5, n_estimators=200, reg_alpha=0, reg_lambda=1, subsample=0.7; total time= 2.8min\n",
            "[CV] END colsample_bytree=1.0, learning_rate=0.01, max_depth=3, min_child_weight=5, n_estimators=200, reg_alpha=0, reg_lambda=1, subsample=0.7; total time= 2.8min\n",
            "[CV] END colsample_bytree=0.85, learning_rate=0.1, max_depth=9, min_child_weight=5, n_estimators=200, reg_alpha=1, reg_lambda=0.7, subsample=0.7; total time= 6.6min\n",
            "[CV] END colsample_bytree=0.85, learning_rate=0.1, max_depth=9, min_child_weight=5, n_estimators=200, reg_alpha=1, reg_lambda=0.7, subsample=0.7; total time= 6.6min\n",
            "[CV] END colsample_bytree=0.85, learning_rate=0.1, max_depth=9, min_child_weight=5, n_estimators=200, reg_alpha=1, reg_lambda=0.7, subsample=0.7; total time= 6.6min\n",
            "[CV] END colsample_bytree=0.85, learning_rate=0.1, max_depth=9, min_child_weight=5, n_estimators=200, reg_alpha=1, reg_lambda=0.7, subsample=0.7; total time= 6.7min\n",
            "[CV] END colsample_bytree=0.85, learning_rate=0.1, max_depth=9, min_child_weight=5, n_estimators=200, reg_alpha=1, reg_lambda=0.7, subsample=0.7; total time= 6.6min\n",
            "[CV] END colsample_bytree=1.0, learning_rate=0.01, max_depth=6, min_child_weight=3, n_estimators=100, reg_alpha=0.1, reg_lambda=1.3, subsample=0.7; total time= 2.1min\n",
            "[CV] END colsample_bytree=1.0, learning_rate=0.01, max_depth=6, min_child_weight=3, n_estimators=100, reg_alpha=0.1, reg_lambda=1.3, subsample=0.7; total time= 2.1min\n",
            "[CV] END colsample_bytree=1.0, learning_rate=0.01, max_depth=6, min_child_weight=3, n_estimators=100, reg_alpha=0.1, reg_lambda=1.3, subsample=0.7; total time= 2.1min\n",
            "[CV] END colsample_bytree=1.0, learning_rate=0.01, max_depth=6, min_child_weight=3, n_estimators=100, reg_alpha=0.1, reg_lambda=1.3, subsample=0.7; total time= 2.1min\n",
            "[CV] END colsample_bytree=1.0, learning_rate=0.01, max_depth=6, min_child_weight=3, n_estimators=100, reg_alpha=0.1, reg_lambda=1.3, subsample=0.7; total time= 2.1min\n",
            "[CV] END colsample_bytree=1.0, learning_rate=0.1, max_depth=9, min_child_weight=3, n_estimators=200, reg_alpha=10, reg_lambda=0.7, subsample=0.7; total time= 5.7min\n",
            "[CV] END colsample_bytree=1.0, learning_rate=0.1, max_depth=9, min_child_weight=3, n_estimators=200, reg_alpha=10, reg_lambda=0.7, subsample=0.7; total time= 5.8min\n",
            "[CV] END colsample_bytree=1.0, learning_rate=0.1, max_depth=9, min_child_weight=3, n_estimators=200, reg_alpha=10, reg_lambda=0.7, subsample=0.7; total time= 5.7min\n",
            "[CV] END colsample_bytree=1.0, learning_rate=0.1, max_depth=9, min_child_weight=3, n_estimators=200, reg_alpha=10, reg_lambda=0.7, subsample=0.7; total time= 5.8min\n",
            "[CV] END colsample_bytree=1.0, learning_rate=0.1, max_depth=9, min_child_weight=3, n_estimators=200, reg_alpha=10, reg_lambda=0.7, subsample=0.7; total time= 5.7min\n"
          ]
        },
        {
          "data": {
            "text/html": [
              "<style>#sk-container-id-1 {\n",
              "  /* Definition of color scheme common for light and dark mode */\n",
              "  --sklearn-color-text: black;\n",
              "  --sklearn-color-line: gray;\n",
              "  /* Definition of color scheme for unfitted estimators */\n",
              "  --sklearn-color-unfitted-level-0: #fff5e6;\n",
              "  --sklearn-color-unfitted-level-1: #f6e4d2;\n",
              "  --sklearn-color-unfitted-level-2: #ffe0b3;\n",
              "  --sklearn-color-unfitted-level-3: chocolate;\n",
              "  /* Definition of color scheme for fitted estimators */\n",
              "  --sklearn-color-fitted-level-0: #f0f8ff;\n",
              "  --sklearn-color-fitted-level-1: #d4ebff;\n",
              "  --sklearn-color-fitted-level-2: #b3dbfd;\n",
              "  --sklearn-color-fitted-level-3: cornflowerblue;\n",
              "\n",
              "  /* Specific color for light theme */\n",
              "  --sklearn-color-text-on-default-background: var(--sg-text-color, var(--theme-code-foreground, var(--jp-content-font-color1, black)));\n",
              "  --sklearn-color-background: var(--sg-background-color, var(--theme-background, var(--jp-layout-color0, white)));\n",
              "  --sklearn-color-border-box: var(--sg-text-color, var(--theme-code-foreground, var(--jp-content-font-color1, black)));\n",
              "  --sklearn-color-icon: #696969;\n",
              "\n",
              "  @media (prefers-color-scheme: dark) {\n",
              "    /* Redefinition of color scheme for dark theme */\n",
              "    --sklearn-color-text-on-default-background: var(--sg-text-color, var(--theme-code-foreground, var(--jp-content-font-color1, white)));\n",
              "    --sklearn-color-background: var(--sg-background-color, var(--theme-background, var(--jp-layout-color0, #111)));\n",
              "    --sklearn-color-border-box: var(--sg-text-color, var(--theme-code-foreground, var(--jp-content-font-color1, white)));\n",
              "    --sklearn-color-icon: #878787;\n",
              "  }\n",
              "}\n",
              "\n",
              "#sk-container-id-1 {\n",
              "  color: var(--sklearn-color-text);\n",
              "}\n",
              "\n",
              "#sk-container-id-1 pre {\n",
              "  padding: 0;\n",
              "}\n",
              "\n",
              "#sk-container-id-1 input.sk-hidden--visually {\n",
              "  border: 0;\n",
              "  clip: rect(1px 1px 1px 1px);\n",
              "  clip: rect(1px, 1px, 1px, 1px);\n",
              "  height: 1px;\n",
              "  margin: -1px;\n",
              "  overflow: hidden;\n",
              "  padding: 0;\n",
              "  position: absolute;\n",
              "  width: 1px;\n",
              "}\n",
              "\n",
              "#sk-container-id-1 div.sk-dashed-wrapped {\n",
              "  border: 1px dashed var(--sklearn-color-line);\n",
              "  margin: 0 0.4em 0.5em 0.4em;\n",
              "  box-sizing: border-box;\n",
              "  padding-bottom: 0.4em;\n",
              "  background-color: var(--sklearn-color-background);\n",
              "}\n",
              "\n",
              "#sk-container-id-1 div.sk-container {\n",
              "  /* jupyter's `normalize.less` sets `[hidden] { display: none; }`\n",
              "     but bootstrap.min.css set `[hidden] { display: none !important; }`\n",
              "     so we also need the `!important` here to be able to override the\n",
              "     default hidden behavior on the sphinx rendered scikit-learn.org.\n",
              "     See: https://github.com/scikit-learn/scikit-learn/issues/21755 */\n",
              "  display: inline-block !important;\n",
              "  position: relative;\n",
              "}\n",
              "\n",
              "#sk-container-id-1 div.sk-text-repr-fallback {\n",
              "  display: none;\n",
              "}\n",
              "\n",
              "div.sk-parallel-item,\n",
              "div.sk-serial,\n",
              "div.sk-item {\n",
              "  /* draw centered vertical line to link estimators */\n",
              "  background-image: linear-gradient(var(--sklearn-color-text-on-default-background), var(--sklearn-color-text-on-default-background));\n",
              "  background-size: 2px 100%;\n",
              "  background-repeat: no-repeat;\n",
              "  background-position: center center;\n",
              "}\n",
              "\n",
              "/* Parallel-specific style estimator block */\n",
              "\n",
              "#sk-container-id-1 div.sk-parallel-item::after {\n",
              "  content: \"\";\n",
              "  width: 100%;\n",
              "  border-bottom: 2px solid var(--sklearn-color-text-on-default-background);\n",
              "  flex-grow: 1;\n",
              "}\n",
              "\n",
              "#sk-container-id-1 div.sk-parallel {\n",
              "  display: flex;\n",
              "  align-items: stretch;\n",
              "  justify-content: center;\n",
              "  background-color: var(--sklearn-color-background);\n",
              "  position: relative;\n",
              "}\n",
              "\n",
              "#sk-container-id-1 div.sk-parallel-item {\n",
              "  display: flex;\n",
              "  flex-direction: column;\n",
              "}\n",
              "\n",
              "#sk-container-id-1 div.sk-parallel-item:first-child::after {\n",
              "  align-self: flex-end;\n",
              "  width: 50%;\n",
              "}\n",
              "\n",
              "#sk-container-id-1 div.sk-parallel-item:last-child::after {\n",
              "  align-self: flex-start;\n",
              "  width: 50%;\n",
              "}\n",
              "\n",
              "#sk-container-id-1 div.sk-parallel-item:only-child::after {\n",
              "  width: 0;\n",
              "}\n",
              "\n",
              "/* Serial-specific style estimator block */\n",
              "\n",
              "#sk-container-id-1 div.sk-serial {\n",
              "  display: flex;\n",
              "  flex-direction: column;\n",
              "  align-items: center;\n",
              "  background-color: var(--sklearn-color-background);\n",
              "  padding-right: 1em;\n",
              "  padding-left: 1em;\n",
              "}\n",
              "\n",
              "\n",
              "/* Toggleable style: style used for estimator/Pipeline/ColumnTransformer box that is\n",
              "clickable and can be expanded/collapsed.\n",
              "- Pipeline and ColumnTransformer use this feature and define the default style\n",
              "- Estimators will overwrite some part of the style using the `sk-estimator` class\n",
              "*/\n",
              "\n",
              "/* Pipeline and ColumnTransformer style (default) */\n",
              "\n",
              "#sk-container-id-1 div.sk-toggleable {\n",
              "  /* Default theme specific background. It is overwritten whether we have a\n",
              "  specific estimator or a Pipeline/ColumnTransformer */\n",
              "  background-color: var(--sklearn-color-background);\n",
              "}\n",
              "\n",
              "/* Toggleable label */\n",
              "#sk-container-id-1 label.sk-toggleable__label {\n",
              "  cursor: pointer;\n",
              "  display: block;\n",
              "  width: 100%;\n",
              "  margin-bottom: 0;\n",
              "  padding: 0.5em;\n",
              "  box-sizing: border-box;\n",
              "  text-align: center;\n",
              "}\n",
              "\n",
              "#sk-container-id-1 label.sk-toggleable__label-arrow:before {\n",
              "  /* Arrow on the left of the label */\n",
              "  content: \"▸\";\n",
              "  float: left;\n",
              "  margin-right: 0.25em;\n",
              "  color: var(--sklearn-color-icon);\n",
              "}\n",
              "\n",
              "#sk-container-id-1 label.sk-toggleable__label-arrow:hover:before {\n",
              "  color: var(--sklearn-color-text);\n",
              "}\n",
              "\n",
              "/* Toggleable content - dropdown */\n",
              "\n",
              "#sk-container-id-1 div.sk-toggleable__content {\n",
              "  max-height: 0;\n",
              "  max-width: 0;\n",
              "  overflow: hidden;\n",
              "  text-align: left;\n",
              "  /* unfitted */\n",
              "  background-color: var(--sklearn-color-unfitted-level-0);\n",
              "}\n",
              "\n",
              "#sk-container-id-1 div.sk-toggleable__content.fitted {\n",
              "  /* fitted */\n",
              "  background-color: var(--sklearn-color-fitted-level-0);\n",
              "}\n",
              "\n",
              "#sk-container-id-1 div.sk-toggleable__content pre {\n",
              "  margin: 0.2em;\n",
              "  border-radius: 0.25em;\n",
              "  color: var(--sklearn-color-text);\n",
              "  /* unfitted */\n",
              "  background-color: var(--sklearn-color-unfitted-level-0);\n",
              "}\n",
              "\n",
              "#sk-container-id-1 div.sk-toggleable__content.fitted pre {\n",
              "  /* unfitted */\n",
              "  background-color: var(--sklearn-color-fitted-level-0);\n",
              "}\n",
              "\n",
              "#sk-container-id-1 input.sk-toggleable__control:checked~div.sk-toggleable__content {\n",
              "  /* Expand drop-down */\n",
              "  max-height: 200px;\n",
              "  max-width: 100%;\n",
              "  overflow: auto;\n",
              "}\n",
              "\n",
              "#sk-container-id-1 input.sk-toggleable__control:checked~label.sk-toggleable__label-arrow:before {\n",
              "  content: \"▾\";\n",
              "}\n",
              "\n",
              "/* Pipeline/ColumnTransformer-specific style */\n",
              "\n",
              "#sk-container-id-1 div.sk-label input.sk-toggleable__control:checked~label.sk-toggleable__label {\n",
              "  color: var(--sklearn-color-text);\n",
              "  background-color: var(--sklearn-color-unfitted-level-2);\n",
              "}\n",
              "\n",
              "#sk-container-id-1 div.sk-label.fitted input.sk-toggleable__control:checked~label.sk-toggleable__label {\n",
              "  background-color: var(--sklearn-color-fitted-level-2);\n",
              "}\n",
              "\n",
              "/* Estimator-specific style */\n",
              "\n",
              "/* Colorize estimator box */\n",
              "#sk-container-id-1 div.sk-estimator input.sk-toggleable__control:checked~label.sk-toggleable__label {\n",
              "  /* unfitted */\n",
              "  background-color: var(--sklearn-color-unfitted-level-2);\n",
              "}\n",
              "\n",
              "#sk-container-id-1 div.sk-estimator.fitted input.sk-toggleable__control:checked~label.sk-toggleable__label {\n",
              "  /* fitted */\n",
              "  background-color: var(--sklearn-color-fitted-level-2);\n",
              "}\n",
              "\n",
              "#sk-container-id-1 div.sk-label label.sk-toggleable__label,\n",
              "#sk-container-id-1 div.sk-label label {\n",
              "  /* The background is the default theme color */\n",
              "  color: var(--sklearn-color-text-on-default-background);\n",
              "}\n",
              "\n",
              "/* On hover, darken the color of the background */\n",
              "#sk-container-id-1 div.sk-label:hover label.sk-toggleable__label {\n",
              "  color: var(--sklearn-color-text);\n",
              "  background-color: var(--sklearn-color-unfitted-level-2);\n",
              "}\n",
              "\n",
              "/* Label box, darken color on hover, fitted */\n",
              "#sk-container-id-1 div.sk-label.fitted:hover label.sk-toggleable__label.fitted {\n",
              "  color: var(--sklearn-color-text);\n",
              "  background-color: var(--sklearn-color-fitted-level-2);\n",
              "}\n",
              "\n",
              "/* Estimator label */\n",
              "\n",
              "#sk-container-id-1 div.sk-label label {\n",
              "  font-family: monospace;\n",
              "  font-weight: bold;\n",
              "  display: inline-block;\n",
              "  line-height: 1.2em;\n",
              "}\n",
              "\n",
              "#sk-container-id-1 div.sk-label-container {\n",
              "  text-align: center;\n",
              "}\n",
              "\n",
              "/* Estimator-specific */\n",
              "#sk-container-id-1 div.sk-estimator {\n",
              "  font-family: monospace;\n",
              "  border: 1px dotted var(--sklearn-color-border-box);\n",
              "  border-radius: 0.25em;\n",
              "  box-sizing: border-box;\n",
              "  margin-bottom: 0.5em;\n",
              "  /* unfitted */\n",
              "  background-color: var(--sklearn-color-unfitted-level-0);\n",
              "}\n",
              "\n",
              "#sk-container-id-1 div.sk-estimator.fitted {\n",
              "  /* fitted */\n",
              "  background-color: var(--sklearn-color-fitted-level-0);\n",
              "}\n",
              "\n",
              "/* on hover */\n",
              "#sk-container-id-1 div.sk-estimator:hover {\n",
              "  /* unfitted */\n",
              "  background-color: var(--sklearn-color-unfitted-level-2);\n",
              "}\n",
              "\n",
              "#sk-container-id-1 div.sk-estimator.fitted:hover {\n",
              "  /* fitted */\n",
              "  background-color: var(--sklearn-color-fitted-level-2);\n",
              "}\n",
              "\n",
              "/* Specification for estimator info (e.g. \"i\" and \"?\") */\n",
              "\n",
              "/* Common style for \"i\" and \"?\" */\n",
              "\n",
              ".sk-estimator-doc-link,\n",
              "a:link.sk-estimator-doc-link,\n",
              "a:visited.sk-estimator-doc-link {\n",
              "  float: right;\n",
              "  font-size: smaller;\n",
              "  line-height: 1em;\n",
              "  font-family: monospace;\n",
              "  background-color: var(--sklearn-color-background);\n",
              "  border-radius: 1em;\n",
              "  height: 1em;\n",
              "  width: 1em;\n",
              "  text-decoration: none !important;\n",
              "  margin-left: 1ex;\n",
              "  /* unfitted */\n",
              "  border: var(--sklearn-color-unfitted-level-1) 1pt solid;\n",
              "  color: var(--sklearn-color-unfitted-level-1);\n",
              "}\n",
              "\n",
              ".sk-estimator-doc-link.fitted,\n",
              "a:link.sk-estimator-doc-link.fitted,\n",
              "a:visited.sk-estimator-doc-link.fitted {\n",
              "  /* fitted */\n",
              "  border: var(--sklearn-color-fitted-level-1) 1pt solid;\n",
              "  color: var(--sklearn-color-fitted-level-1);\n",
              "}\n",
              "\n",
              "/* On hover */\n",
              "div.sk-estimator:hover .sk-estimator-doc-link:hover,\n",
              ".sk-estimator-doc-link:hover,\n",
              "div.sk-label-container:hover .sk-estimator-doc-link:hover,\n",
              ".sk-estimator-doc-link:hover {\n",
              "  /* unfitted */\n",
              "  background-color: var(--sklearn-color-unfitted-level-3);\n",
              "  color: var(--sklearn-color-background);\n",
              "  text-decoration: none;\n",
              "}\n",
              "\n",
              "div.sk-estimator.fitted:hover .sk-estimator-doc-link.fitted:hover,\n",
              ".sk-estimator-doc-link.fitted:hover,\n",
              "div.sk-label-container:hover .sk-estimator-doc-link.fitted:hover,\n",
              ".sk-estimator-doc-link.fitted:hover {\n",
              "  /* fitted */\n",
              "  background-color: var(--sklearn-color-fitted-level-3);\n",
              "  color: var(--sklearn-color-background);\n",
              "  text-decoration: none;\n",
              "}\n",
              "\n",
              "/* Span, style for the box shown on hovering the info icon */\n",
              ".sk-estimator-doc-link span {\n",
              "  display: none;\n",
              "  z-index: 9999;\n",
              "  position: relative;\n",
              "  font-weight: normal;\n",
              "  right: .2ex;\n",
              "  padding: .5ex;\n",
              "  margin: .5ex;\n",
              "  width: min-content;\n",
              "  min-width: 20ex;\n",
              "  max-width: 50ex;\n",
              "  color: var(--sklearn-color-text);\n",
              "  box-shadow: 2pt 2pt 4pt #999;\n",
              "  /* unfitted */\n",
              "  background: var(--sklearn-color-unfitted-level-0);\n",
              "  border: .5pt solid var(--sklearn-color-unfitted-level-3);\n",
              "}\n",
              "\n",
              ".sk-estimator-doc-link.fitted span {\n",
              "  /* fitted */\n",
              "  background: var(--sklearn-color-fitted-level-0);\n",
              "  border: var(--sklearn-color-fitted-level-3);\n",
              "}\n",
              "\n",
              ".sk-estimator-doc-link:hover span {\n",
              "  display: block;\n",
              "}\n",
              "\n",
              "/* \"?\"-specific style due to the `<a>` HTML tag */\n",
              "\n",
              "#sk-container-id-1 a.estimator_doc_link {\n",
              "  float: right;\n",
              "  font-size: 1rem;\n",
              "  line-height: 1em;\n",
              "  font-family: monospace;\n",
              "  background-color: var(--sklearn-color-background);\n",
              "  border-radius: 1rem;\n",
              "  height: 1rem;\n",
              "  width: 1rem;\n",
              "  text-decoration: none;\n",
              "  /* unfitted */\n",
              "  color: var(--sklearn-color-unfitted-level-1);\n",
              "  border: var(--sklearn-color-unfitted-level-1) 1pt solid;\n",
              "}\n",
              "\n",
              "#sk-container-id-1 a.estimator_doc_link.fitted {\n",
              "  /* fitted */\n",
              "  border: var(--sklearn-color-fitted-level-1) 1pt solid;\n",
              "  color: var(--sklearn-color-fitted-level-1);\n",
              "}\n",
              "\n",
              "/* On hover */\n",
              "#sk-container-id-1 a.estimator_doc_link:hover {\n",
              "  /* unfitted */\n",
              "  background-color: var(--sklearn-color-unfitted-level-3);\n",
              "  color: var(--sklearn-color-background);\n",
              "  text-decoration: none;\n",
              "}\n",
              "\n",
              "#sk-container-id-1 a.estimator_doc_link.fitted:hover {\n",
              "  /* fitted */\n",
              "  background-color: var(--sklearn-color-fitted-level-3);\n",
              "}\n",
              "</style><div id=\"sk-container-id-1\" class=\"sk-top-container\"><div class=\"sk-text-repr-fallback\"><pre>RandomizedSearchCV(cv=StratifiedKFold(n_splits=5, random_state=13, shuffle=True),\n",
              "                   estimator=XGBClassifier(base_score=None, booster=None,\n",
              "                                           callbacks=None,\n",
              "                                           colsample_bylevel=None,\n",
              "                                           colsample_bynode=None,\n",
              "                                           colsample_bytree=None, device=None,\n",
              "                                           early_stopping_rounds=None,\n",
              "                                           enable_categorical=False,\n",
              "                                           eval_metric=None, feature_types=None,\n",
              "                                           feature_weights=None, gamma=None,\n",
              "                                           grow...\n",
              "                                           multi_strategy=None,\n",
              "                                           n_estimators=None, n_jobs=None,\n",
              "                                           num_parallel_tree=None, ...),\n",
              "                   n_iter=20, n_jobs=-1,\n",
              "                   param_distributions={&#x27;colsample_bytree&#x27;: [0.7, 0.85, 1.0],\n",
              "                                        &#x27;learning_rate&#x27;: [0.01, 0.1, 0.2],\n",
              "                                        &#x27;max_depth&#x27;: [3, 6, 9],\n",
              "                                        &#x27;min_child_weight&#x27;: [1, 3, 5],\n",
              "                                        &#x27;n_estimators&#x27;: [100, 200],\n",
              "                                        &#x27;reg_alpha&#x27;: [0, 0.01, 0.1, 1, 10],\n",
              "                                        &#x27;reg_lambda&#x27;: [0.5, 0.7, 1, 1.3],\n",
              "                                        &#x27;subsample&#x27;: [0.7, 1.0]},\n",
              "                   scoring=&#x27;accuracy&#x27;, verbose=2)</pre><b>In a Jupyter environment, please rerun this cell to show the HTML representation or trust the notebook. <br />On GitHub, the HTML representation is unable to render, please try loading this page with nbviewer.org.</b></div><div class=\"sk-container\" hidden><div class=\"sk-item sk-dashed-wrapped\"><div class=\"sk-label-container\"><div class=\"sk-label fitted sk-toggleable\"><input class=\"sk-toggleable__control sk-hidden--visually\" id=\"sk-estimator-id-1\" type=\"checkbox\" ><label for=\"sk-estimator-id-1\" class=\"sk-toggleable__label fitted sk-toggleable__label-arrow fitted\">&nbsp;&nbsp;RandomizedSearchCV<a class=\"sk-estimator-doc-link fitted\" rel=\"noreferrer\" target=\"_blank\" href=\"https://scikit-learn.org/1.5/modules/generated/sklearn.model_selection.RandomizedSearchCV.html\">?<span>Documentation for RandomizedSearchCV</span></a><span class=\"sk-estimator-doc-link fitted\">i<span>Fitted</span></span></label><div class=\"sk-toggleable__content fitted\"><pre>RandomizedSearchCV(cv=StratifiedKFold(n_splits=5, random_state=13, shuffle=True),\n",
              "                   estimator=XGBClassifier(base_score=None, booster=None,\n",
              "                                           callbacks=None,\n",
              "                                           colsample_bylevel=None,\n",
              "                                           colsample_bynode=None,\n",
              "                                           colsample_bytree=None, device=None,\n",
              "                                           early_stopping_rounds=None,\n",
              "                                           enable_categorical=False,\n",
              "                                           eval_metric=None, feature_types=None,\n",
              "                                           feature_weights=None, gamma=None,\n",
              "                                           grow...\n",
              "                                           multi_strategy=None,\n",
              "                                           n_estimators=None, n_jobs=None,\n",
              "                                           num_parallel_tree=None, ...),\n",
              "                   n_iter=20, n_jobs=-1,\n",
              "                   param_distributions={&#x27;colsample_bytree&#x27;: [0.7, 0.85, 1.0],\n",
              "                                        &#x27;learning_rate&#x27;: [0.01, 0.1, 0.2],\n",
              "                                        &#x27;max_depth&#x27;: [3, 6, 9],\n",
              "                                        &#x27;min_child_weight&#x27;: [1, 3, 5],\n",
              "                                        &#x27;n_estimators&#x27;: [100, 200],\n",
              "                                        &#x27;reg_alpha&#x27;: [0, 0.01, 0.1, 1, 10],\n",
              "                                        &#x27;reg_lambda&#x27;: [0.5, 0.7, 1, 1.3],\n",
              "                                        &#x27;subsample&#x27;: [0.7, 1.0]},\n",
              "                   scoring=&#x27;accuracy&#x27;, verbose=2)</pre></div> </div></div><div class=\"sk-parallel\"><div class=\"sk-parallel-item\"><div class=\"sk-item\"><div class=\"sk-label-container\"><div class=\"sk-label fitted sk-toggleable\"><input class=\"sk-toggleable__control sk-hidden--visually\" id=\"sk-estimator-id-2\" type=\"checkbox\" ><label for=\"sk-estimator-id-2\" class=\"sk-toggleable__label fitted sk-toggleable__label-arrow fitted\">best_estimator_: XGBClassifier</label><div class=\"sk-toggleable__content fitted\"><pre>XGBClassifier(base_score=None, booster=None, callbacks=None,\n",
              "              colsample_bylevel=None, colsample_bynode=None,\n",
              "              colsample_bytree=0.85, device=None, early_stopping_rounds=None,\n",
              "              enable_categorical=False, eval_metric=None, feature_types=None,\n",
              "              feature_weights=None, gamma=None, grow_policy=None,\n",
              "              importance_type=None, interaction_constraints=None,\n",
              "              learning_rate=0.1, max_bin=None, max_cat_threshold=None,\n",
              "              max_cat_to_onehot=None, max_delta_step=None, max_depth=9,\n",
              "              max_leaves=None, min_child_weight=5, missing=nan,\n",
              "              monotone_constraints=None, multi_strategy=None, n_estimators=200,\n",
              "              n_jobs=None, num_parallel_tree=None, ...)</pre></div> </div></div><div class=\"sk-serial\"><div class=\"sk-item\"><div class=\"sk-estimator fitted sk-toggleable\"><input class=\"sk-toggleable__control sk-hidden--visually\" id=\"sk-estimator-id-3\" type=\"checkbox\" ><label for=\"sk-estimator-id-3\" class=\"sk-toggleable__label fitted sk-toggleable__label-arrow fitted\">&nbsp;XGBClassifier<a class=\"sk-estimator-doc-link fitted\" rel=\"noreferrer\" target=\"_blank\" href=\"https://xgboost.readthedocs.io/en/release_3.0.0/python/python_api.html#xgboost.XGBClassifier\">?<span>Documentation for XGBClassifier</span></a></label><div class=\"sk-toggleable__content fitted\"><pre>XGBClassifier(base_score=None, booster=None, callbacks=None,\n",
              "              colsample_bylevel=None, colsample_bynode=None,\n",
              "              colsample_bytree=0.85, device=None, early_stopping_rounds=None,\n",
              "              enable_categorical=False, eval_metric=None, feature_types=None,\n",
              "              feature_weights=None, gamma=None, grow_policy=None,\n",
              "              importance_type=None, interaction_constraints=None,\n",
              "              learning_rate=0.1, max_bin=None, max_cat_threshold=None,\n",
              "              max_cat_to_onehot=None, max_delta_step=None, max_depth=9,\n",
              "              max_leaves=None, min_child_weight=5, missing=nan,\n",
              "              monotone_constraints=None, multi_strategy=None, n_estimators=200,\n",
              "              n_jobs=None, num_parallel_tree=None, ...)</pre></div> </div></div></div></div></div></div></div></div></div>"
            ],
            "text/plain": [
              "RandomizedSearchCV(cv=StratifiedKFold(n_splits=5, random_state=13, shuffle=True),\n",
              "                   estimator=XGBClassifier(base_score=None, booster=None,\n",
              "                                           callbacks=None,\n",
              "                                           colsample_bylevel=None,\n",
              "                                           colsample_bynode=None,\n",
              "                                           colsample_bytree=None, device=None,\n",
              "                                           early_stopping_rounds=None,\n",
              "                                           enable_categorical=False,\n",
              "                                           eval_metric=None, feature_types=None,\n",
              "                                           feature_weights=None, gamma=None,\n",
              "                                           grow...\n",
              "                                           multi_strategy=None,\n",
              "                                           n_estimators=None, n_jobs=None,\n",
              "                                           num_parallel_tree=None, ...),\n",
              "                   n_iter=20, n_jobs=-1,\n",
              "                   param_distributions={'colsample_bytree': [0.7, 0.85, 1.0],\n",
              "                                        'learning_rate': [0.01, 0.1, 0.2],\n",
              "                                        'max_depth': [3, 6, 9],\n",
              "                                        'min_child_weight': [1, 3, 5],\n",
              "                                        'n_estimators': [100, 200],\n",
              "                                        'reg_alpha': [0, 0.01, 0.1, 1, 10],\n",
              "                                        'reg_lambda': [0.5, 0.7, 1, 1.3],\n",
              "                                        'subsample': [0.7, 1.0]},\n",
              "                   scoring='accuracy', verbose=2)"
            ]
          },
          "execution_count": 28,
          "metadata": {},
          "output_type": "execute_result"
        }
      ],
      "source": [
        "param_grid = {\n",
        "    \"n_estimators\": [100, 200],\n",
        "    \"learning_rate\": [0.01, 0.1, 0.2],\n",
        "    \"max_depth\": [3, 6, 9],\n",
        "    \"min_child_weight\": [1, 3, 5],\n",
        "    \"subsample\": [0.7, 1.0],\n",
        "    \"colsample_bytree\": [0.7, 0.85, 1.0],\n",
        "    \"reg_alpha\": [0, 0.01, 0.1, 1, 10],\n",
        "    \"reg_lambda\": [0.5, 0.7, 1, 1.3]\n",
        "}\n",
        "\n",
        "xgb_model = xgb.XGBClassifier(random_state= RandomStateNumber)\n",
        "\n",
        "grid_search = RandomizedSearchCV(\n",
        "    xgb_model, param_grid, cv = stratified_cv, scoring = \"accuracy\", n_iter=20, n_jobs=-1, verbose =  2\n",
        ")\n",
        "grid_search.fit(X_train_scaled, y_train)"
      ]
    },
    {
      "cell_type": "code",
      "execution_count": 29,
      "metadata": {},
      "outputs": [
        {
          "name": "stdout",
          "output_type": "stream",
          "text": [
            "best Parameter: {'subsample': 1.0, 'reg_lambda': 0.5, 'reg_alpha': 10, 'n_estimators': 200, 'min_child_weight': 5, 'max_depth': 9, 'learning_rate': 0.1, 'colsample_bytree': 0.85}\n",
            "best score 0.19707666666666668\n"
          ]
        }
      ],
      "source": [
        "best_xgb = grid_search.best_estimator_\n",
        "best_param = grid_search.best_params_\n",
        "print(\"best Parameter:\", best_param)\n",
        "print(\"best score\", grid_search.best_score_)"
      ]
    },
    {
      "cell_type": "code",
      "execution_count": 30,
      "metadata": {},
      "outputs": [
        {
          "data": {
            "image/png": "[encoded data removed]",
            "text/plain": [
              "<Figure size 640x480 with 2 Axes>"
            ]
          },
          "metadata": {},
          "output_type": "display_data"
        }
      ],
      "source": [
        "cm = confusion_matrix(y_val, y_pred)\n",
        "disp = ConfusionMatrixDisplay(confusion_matrix=cm,\n",
        "                              display_labels=le.classes_)\n",
        "disp.plot()\n",
        "plt.title(f\" Confusion Matrix\")\n",
        "plt.xticks(rotation = 90)\n",
        "plt.show()"
      ]
    },
    {
      "cell_type": "code",
      "execution_count": null,
      "metadata": {},
      "outputs": [],
      "source": [
        "print(classification_report(y_val, y_pred, target_names=le.classes_))"
      ]
    },
    {
      "cell_type": "code",
      "execution_count": null,
      "metadata": {},
      "outputs": [],
      "source": [
        "import joblib\n",
        "filename = \"fertilizer_classification/best_model.pkl\"\n",
        "joblib.dump(best_xgb, filename)"
      ]
    },
    {
      "cell_type": "code",
      "execution_count": null,
      "metadata": {},
      "outputs": [],
      "source": [
        "import joblib\n",
        "filename = \"fertilizer_classification/le_classes.pkl\"\n",
        "joblib.dump(le, filename)"
      ]
    },
    {
      "cell_type": "code",
      "execution_count": null,
      "metadata": {},
      "outputs": [],
      "source": [
        "y_pred_proba = best_xgb.predict_proba(X_val_scaled)\n",
        "top3_indices_test = np.argsort(y_pred_proba, axis=1)[:, -3:][:, ::-1]\n",
        "predictTable = pd.DataFrame()\n",
        "predictTable[\"y_pred_proba\"] = list(top3_indices_test)\n",
        "predictTable[\"y_val\"] = y_val\n",
        "predictTable"
      ]
    },
    {
      "cell_type": "code",
      "execution_count": null,
      "metadata": {},
      "outputs": [],
      "source": [
        "predictTable[\"y_pred\"] = predictTable.apply(\n",
        "    lambda row: (\n",
        "        row[\"y_val\"] if row[\"y_val\"] in row[\"y_pred_proba\"]\n",
        "        else row[\"y_pred_proba\"][0]  # returns the first item if False\n",
        "    ),\n",
        "    axis=1\n",
        ")\n",
        "predictTable.head()\n"
      ]
    },
    {
      "cell_type": "code",
      "execution_count": null,
      "metadata": {},
      "outputs": [],
      "source": []
    },
    {
      "cell_type": "code",
      "execution_count": null,
      "metadata": {},
      "outputs": [],
      "source": [
        "predictTable[\"y_pred\"] = predictTable[\"y_val\"].isin(predictTable[\"y_pred_proba\"])\n",
        "predictTable.head()"
      ]
    },
    {
      "cell_type": "markdown",
      "metadata": {
        "id": "0N39xqhGDhwZ"
      },
      "source": [
        "### Random Forest Classifier"
      ]
    },
    {
      "cell_type": "code",
      "execution_count": null,
      "metadata": {
        "id": "kzdvQJPLIRl8"
      },
      "outputs": [],
      "source": [
        "ranForest = RandomForestClassifier(random_state= RandomStateNumber)\n",
        "ranForest.fit(X_train_scaled, y_train)"
      ]
    },
    {
      "cell_type": "code",
      "execution_count": null,
      "metadata": {
        "id": "7gZ22P8II5cr"
      },
      "outputs": [],
      "source": [
        "ranForest.score(X_val_scaled, y_val)"
      ]
    },
    {
      "cell_type": "code",
      "execution_count": null,
      "metadata": {
        "id": "W8fv2TCBJ_WW"
      },
      "outputs": [],
      "source": [
        "y_pred = ranForest.predict(X_val_scaled)\n",
        "y_pred"
      ]
    },
    {
      "cell_type": "code",
      "execution_count": null,
      "metadata": {
        "id": "o7WWABANQxwT"
      },
      "outputs": [],
      "source": [
        "y_pred_proba = ranForest.predict_proba(X_val_scaled)\n",
        "y_pred_proba"
      ]
    },
    {
      "cell_type": "code",
      "execution_count": null,
      "metadata": {
        "id": "kzMkfK5kTMqf"
      },
      "outputs": [],
      "source": [
        "top3_indices_test = np.argsort(y_pred_proba, axis=1)[:, -3:][:, ::-1]\n",
        "top3_indices_test"
      ]
    },
    {
      "cell_type": "code",
      "execution_count": null,
      "metadata": {},
      "outputs": [],
      "source": [
        "# np.argsort(y_pred_proba, axis=1)[:, -1:][:, ::-1]\n",
        "np.argmax(y_pred_proba, axis=1)"
      ]
    },
    {
      "cell_type": "code",
      "execution_count": null,
      "metadata": {
        "id": "4eduGfSuPPsk"
      },
      "outputs": [],
      "source": [
        "print(ranForest.classes_)\n",
        "print(le.classes_)"
      ]
    },
    {
      "cell_type": "code",
      "execution_count": null,
      "metadata": {
        "id": "bCoss_5zUzmE"
      },
      "outputs": [],
      "source": [
        "# ranForest.classes_[top3_indices_test]\n",
        "le.classes_[top3_indices_test]"
      ]
    },
    {
      "cell_type": "code",
      "execution_count": null,
      "metadata": {},
      "outputs": [],
      "source": [
        "le.classes_[y_pred]"
      ]
    },
    {
      "cell_type": "code",
      "execution_count": null,
      "metadata": {
        "id": "aRP8xKSAP4Je"
      },
      "outputs": [],
      "source": [
        "cm = confusion_matrix(y_val, y_pred)\n",
        "disp = ConfusionMatrixDisplay(confusion_matrix=cm,\n",
        "                              display_labels=le.classes_)\n",
        "disp.plot()\n",
        "plt.title(f\" Confusion Matrix\")\n",
        "plt.xticks(rotation = 90)\n",
        "plt.show()"
      ]
    },
    {
      "cell_type": "code",
      "execution_count": null,
      "metadata": {
        "id": "yhAEP5J5Ogj-"
      },
      "outputs": [],
      "source": [
        "print(classification_report(y_val, y_pred, target_names=le.classes_))"
      ]
    },
    {
      "cell_type": "code",
      "execution_count": null,
      "metadata": {
        "id": "GdOvrSO6iyPr"
      },
      "outputs": [],
      "source": [
        "ranForest.feature_importances_"
      ]
    },
    {
      "cell_type": "code",
      "execution_count": null,
      "metadata": {
        "id": "V1sECP4djHs2"
      },
      "outputs": [],
      "source": [
        "important = ranForest.feature_importances_\n",
        "print(\"Feature Importances:\", important)"
      ]
    },
    {
      "cell_type": "code",
      "execution_count": null,
      "metadata": {
        "id": "hCspNnkPjNN7"
      },
      "outputs": [],
      "source": [
        "columns = X_train_scaled.columns\n",
        "coeff = pd.Series(important, columns)\n",
        "print(coeff.sort_values(ascending = False))\n",
        "\n",
        "fig = plt.figure(figsize=(5,3), layout = \"constrained\")\n",
        "\n",
        "coeff.sort_values(ascending = True).plot.barh(color=\"blue\")\n",
        "plt.title(\"Feature Importance\", fontsize=10)\n",
        "plt.show()"
      ]
    },
    {
      "cell_type": "code",
      "execution_count": null,
      "metadata": {
        "colab": {
          "background_save": true
        },
        "id": "GKFN6sQThIYs",
        "outputId": "147557bb-14e9-4e57-ebae-344492391b6f"
      },
      "outputs": [],
      "source": [
        "# Random Forest Classifier\n",
        "time_start = time.time()\n",
        "param_grid_for = [\n",
        "    {\n",
        "        'classifier': [RandomForestClassifier(random_state= RandomStateNumber)],\n",
        "        'classifier__n_estimators': [100, 200, 400],\n",
        "        'classifier__max_depth': [5, 8, 10, 12, 15, 20, 50, 100, None]\n",
        "    }]\n",
        "\n",
        "grid_for = GridSearchCV(pipe, param_grid = param_grid_for,\n",
        "                             cv=stratified_cv, scoring= scoring_metrics,\n",
        "                             n_jobs = -1)\n",
        "\n",
        "grid_for.fit(X_train_scaled, y_train)\n",
        "time_lapse = time.time() - time_start\n",
        "time_lapse"
      ]
    },
    {
      "cell_type": "code",
      "execution_count": null,
      "metadata": {
        "id": "jrseKUNXAFSr"
      },
      "outputs": [],
      "source": [
        "# Access the classifier step within the pipeline\n",
        "best_model = grid_for.best_estimator_\n",
        "classifier_model = best_model.named_steps['classifier']\n",
        "\n",
        "# Check if the classifier has the feature_importances_ attribute\n",
        "if hasattr(classifier_model, 'feature_importances_'):\n",
        "    # Access and print the feature importances\n",
        "    important = classifier_model.feature_importances_\n",
        "    print(\"Feature Importances:\", important)\n",
        "\n",
        "else:\n",
        "    print(\"The best model does not have the attribute 'feature_importances_'.\")\n",
        "columns = X_train_scaled.columns\n",
        "coeff = pd.Series(important, columns)\n",
        "print(coeff.sort_values(ascending = False))\n",
        "\n",
        "fig = plt.figure(figsize=(5,3), layout = \"constrained\")\n",
        "\n",
        "coeff.sort_values(ascending = True).plot.barh(color=\"blue\")\n",
        "plt.title(\"Feature Importance\", fontsize=10)\n",
        "plt.show()\n"
      ]
    }
  ],
  "metadata": {
    "colab": {
      "machine_shape": "hm",
      "provenance": []
    },
    "kernelspec": {
      "display_name": "base",
      "language": "python",
      "name": "python3"
    },
    "language_info": {
      "codemirror_mode": {
        "name": "ipython",
        "version": 3
      },
      "file_extension": ".py",
      "mimetype": "text/x-python",
      "name": "python",
      "nbconvert_exporter": "python",
      "pygments_lexer": "ipython3",
      "version": "3.12.7"
    }
  },
  "nbformat": 4,
  "nbformat_minor": 0
}
